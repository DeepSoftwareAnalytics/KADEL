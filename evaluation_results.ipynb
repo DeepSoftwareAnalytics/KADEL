{
 "cells": [
  {
   "attachments": {},
   "cell_type": "markdown",
   "metadata": {},
   "source": [
    "### Install Packages"
   ]
  },
  {
   "cell_type": "code",
   "execution_count": 1,
   "metadata": {},
   "outputs": [
    {
     "name": "stdout",
     "output_type": "stream",
     "text": [
      "Requirement already satisfied: nltk==3.6.2 in /home/taow/anaconda3/envs/KADEL/lib/python3.8/site-packages (3.6.2)\n",
      "Requirement already satisfied: scipy==1.5.2 in /home/taow/anaconda3/envs/KADEL/lib/python3.8/site-packages (1.5.2)\n",
      "Requirement already satisfied: pandas==1.1.3 in /home/taow/anaconda3/envs/KADEL/lib/python3.8/site-packages (1.1.3)\n",
      "Requirement already satisfied: krippendorff==0.4.0 in /home/taow/anaconda3/envs/KADEL/lib/python3.8/site-packages (0.4.0)\n",
      "Requirement already satisfied: scikit-learn==0.24.1 in /home/taow/anaconda3/envs/KADEL/lib/python3.8/site-packages (0.24.1)\n",
      "Requirement already satisfied: sumeval==0.2.2 in /home/taow/anaconda3/envs/KADEL/lib/python3.8/site-packages (0.2.2)\n",
      "Requirement already satisfied: sacrebleu==1.5.1 in /home/taow/anaconda3/envs/KADEL/lib/python3.8/site-packages (1.5.1)\n",
      "Requirement already satisfied: matplotlib==3.5.1 in /home/taow/anaconda3/envs/KADEL/lib/python3.8/site-packages (3.5.1)\n",
      "Requirement already satisfied: click in /home/taow/anaconda3/envs/KADEL/lib/python3.8/site-packages (from nltk==3.6.2) (8.1.7)\n",
      "Requirement already satisfied: joblib in /home/taow/anaconda3/envs/KADEL/lib/python3.8/site-packages (from nltk==3.6.2) (1.3.2)\n",
      "Requirement already satisfied: regex in /home/taow/anaconda3/envs/KADEL/lib/python3.8/site-packages (from nltk==3.6.2) (2023.10.3)\n",
      "Requirement already satisfied: tqdm in /home/taow/anaconda3/envs/KADEL/lib/python3.8/site-packages (from nltk==3.6.2) (4.66.1)\n",
      "Requirement already satisfied: numpy>=1.14.5 in /home/taow/anaconda3/envs/KADEL/lib/python3.8/site-packages (from scipy==1.5.2) (1.20.0)\n",
      "Requirement already satisfied: python-dateutil>=2.7.3 in /home/taow/anaconda3/envs/KADEL/lib/python3.8/site-packages (from pandas==1.1.3) (2.8.2)\n",
      "Requirement already satisfied: pytz>=2017.2 in /home/taow/anaconda3/envs/KADEL/lib/python3.8/site-packages (from pandas==1.1.3) (2023.3.post1)\n",
      "Requirement already satisfied: threadpoolctl>=2.0.0 in /home/taow/anaconda3/envs/KADEL/lib/python3.8/site-packages (from scikit-learn==0.24.1) (3.2.0)\n",
      "Requirement already satisfied: plac>=0.9.6 in /home/taow/anaconda3/envs/KADEL/lib/python3.8/site-packages (from sumeval==0.2.2) (1.4.1)\n",
      "Requirement already satisfied: portalocker==2.0.0 in /home/taow/anaconda3/envs/KADEL/lib/python3.8/site-packages (from sacrebleu==1.5.1) (2.0.0)\n",
      "Requirement already satisfied: cycler>=0.10 in /home/taow/anaconda3/envs/KADEL/lib/python3.8/site-packages (from matplotlib==3.5.1) (0.12.1)\n",
      "Requirement already satisfied: fonttools>=4.22.0 in /home/taow/anaconda3/envs/KADEL/lib/python3.8/site-packages (from matplotlib==3.5.1) (4.43.1)\n",
      "Requirement already satisfied: kiwisolver>=1.0.1 in /home/taow/anaconda3/envs/KADEL/lib/python3.8/site-packages (from matplotlib==3.5.1) (1.4.5)\n",
      "Requirement already satisfied: packaging>=20.0 in /home/taow/anaconda3/envs/KADEL/lib/python3.8/site-packages (from matplotlib==3.5.1) (23.2)\n",
      "Requirement already satisfied: pillow>=6.2.0 in /home/taow/anaconda3/envs/KADEL/lib/python3.8/site-packages (from matplotlib==3.5.1) (10.0.1)\n",
      "Requirement already satisfied: pyparsing>=2.2.1 in /home/taow/anaconda3/envs/KADEL/lib/python3.8/site-packages (from matplotlib==3.5.1) (3.1.1)\n",
      "Requirement already satisfied: six>=1.5 in /home/taow/anaconda3/envs/KADEL/lib/python3.8/site-packages (from python-dateutil>=2.7.3->pandas==1.1.3) (1.16.0)\n"
     ]
    }
   ],
   "source": [
    "!pip install nltk==3.6.2 scipy==1.5.2 pandas==1.1.3 krippendorff==0.4.0 scikit-learn==0.24.1 sumeval==0.2.2 sacrebleu==1.5.1 matplotlib==3.5.1 openpyxl"
   ]
  },
  {
   "attachments": {},
   "cell_type": "markdown",
   "metadata": {},
   "source": [
    "### Load Evaluation Script"
   ]
  },
  {
   "cell_type": "code",
   "execution_count": 14,
   "metadata": {},
   "outputs": [],
   "source": [
    "from preprocess_MCMD import evaluate, get_metric_result\n",
    "import os, sys, warnings\n",
    "\n",
    "warnings.filterwarnings('ignore')"
   ]
  },
  {
   "cell_type": "markdown",
   "metadata": {},
   "source": [
    "### Load previous Results"
   ]
  },
  {
   "cell_type": "code",
   "execution_count": 11,
   "metadata": {},
   "outputs": [],
   "source": [
    "# import json\n",
    "# with open(\"experimental_results/temp_u_split_model_lan_score.json\", \"r\") as f:\n",
    "#     u_split_model_lan_score = json.load(f)\n",
    "# with open(\"experimental_results/temp_m_split_model_lan_score.json\", \"r\") as f:\n",
    "#     m_split_model_lan_score = json.load(f)"
   ]
  },
  {
   "cell_type": "markdown",
   "metadata": {},
   "source": [
    "### Save Results"
   ]
  },
  {
   "cell_type": "code",
   "execution_count": 57,
   "metadata": {},
   "outputs": [],
   "source": [
    "# import json\n",
    "# with open(\"experimental_results/temp_u_split_model_lan_score.json\", \"w\") as f:\n",
    "#     json.dump(u_split_model_lan_score, f)\n",
    "# with open(\"experimental_results/temp_m_split_model_lan_score.json\", \"w\") as f:\n",
    "#     json.dump(m_split_model_lan_score, f)"
   ]
  },
  {
   "attachments": {},
   "cell_type": "markdown",
   "metadata": {},
   "source": [
    "## Empirical Study (Table 2)"
   ]
  },
  {
   "cell_type": "code",
   "execution_count": 3,
   "metadata": {},
   "outputs": [],
   "source": [
    "ref_path = \"experimental_results/empirical_study/reference.txt\" # which is MCMD_{js-m}"
   ]
  },
  {
   "attachments": {},
   "cell_type": "markdown",
   "metadata": {},
   "source": [
    "### 1st experiment row of Table 2"
   ]
  },
  {
   "cell_type": "code",
   "execution_count": 4,
   "metadata": {},
   "outputs": [
    {
     "name": "stderr",
     "output_type": "stream",
     "text": [
      "[nltk_data] Downloading package wordnet to /home/taow/nltk_data...\n",
      "[nltk_data]   Package wordnet is already up-to-date!\n"
     ]
    },
    {
     "data": {
      "text/plain": [
       "{'subject': {'B-Norm': 22.301511054799953,\n",
       "  'Rouge-1': 25.416904963684395,\n",
       "  'Rouge-2': 11.592715506100227,\n",
       "  'Rouge-L': 25.01131031690152,\n",
       "  'Meteor': 25.03761691660929}}"
      ]
     },
     "execution_count": 4,
     "metadata": {},
     "output_type": "execute_result"
    }
   ],
   "source": [
    "gen_path = \"experimental_results/empirical_study/IN_type_scope_diff-OUT_subject/test_without_idx.output\"\n",
    "evaluate(ref_path, gen_path, gen_component_list = [\"subject\"])"
   ]
  },
  {
   "attachments": {},
   "cell_type": "markdown",
   "metadata": {},
   "source": [
    "### 2nd experiment row of Table 2"
   ]
  },
  {
   "cell_type": "code",
   "execution_count": 5,
   "metadata": {},
   "outputs": [
    {
     "name": "stderr",
     "output_type": "stream",
     "text": [
      "[nltk_data] Downloading package wordnet to /home/taow/nltk_data...\n",
      "[nltk_data]   Package wordnet is already up-to-date!\n"
     ]
    },
    {
     "data": {
      "text/plain": [
       "{'subject': {'B-Norm': 22.3486800543539,\n",
       "  'Rouge-1': 25.41006060291628,\n",
       "  'Rouge-2': 11.534639337789509,\n",
       "  'Rouge-L': 25.01665281742671,\n",
       "  'Meteor': 25.00207965662437}}"
      ]
     },
     "execution_count": 5,
     "metadata": {},
     "output_type": "execute_result"
    }
   ],
   "source": [
    "gen_path = \"experimental_results/empirical_study/IN_type_diff-OUT_subject/test_without_idx.output\"\n",
    "evaluate(ref_path, gen_path, gen_component_list = [\"subject\"])"
   ]
  },
  {
   "attachments": {},
   "cell_type": "markdown",
   "metadata": {},
   "source": [
    "### 3rd experiment row of Table 2"
   ]
  },
  {
   "cell_type": "code",
   "execution_count": 6,
   "metadata": {},
   "outputs": [
    {
     "name": "stderr",
     "output_type": "stream",
     "text": [
      "[nltk_data] Downloading package wordnet to /home/taow/nltk_data...\n",
      "[nltk_data]   Package wordnet is already up-to-date!\n"
     ]
    },
    {
     "data": {
      "text/plain": [
       "{'subject': {'B-Norm': 22.021213075890852,\n",
       "  'Rouge-1': 24.911786491080917,\n",
       "  'Rouge-2': 11.49166319599873,\n",
       "  'Rouge-L': 24.547974079244096,\n",
       "  'Meteor': 24.393248075482525}}"
      ]
     },
     "execution_count": 6,
     "metadata": {},
     "output_type": "execute_result"
    }
   ],
   "source": [
    "gen_path = \"experimental_results/empirical_study/IN_scope_diff-OUT_subject/test_without_idx.output\"\n",
    "evaluate(ref_path, gen_path, gen_component_list = [\"subject\"])"
   ]
  },
  {
   "attachments": {},
   "cell_type": "markdown",
   "metadata": {},
   "source": [
    "### 4th experiment row of Table 2"
   ]
  },
  {
   "cell_type": "code",
   "execution_count": 7,
   "metadata": {},
   "outputs": [
    {
     "name": "stderr",
     "output_type": "stream",
     "text": [
      "[nltk_data] Downloading package wordnet to /home/taow/nltk_data...\n",
      "[nltk_data]   Package wordnet is already up-to-date!\n"
     ]
    },
    {
     "data": {
      "text/plain": [
       "{'subject': {'B-Norm': 22.340668967071448,\n",
       "  'Rouge-1': 25.498831664472803,\n",
       "  'Rouge-2': 11.627518173212229,\n",
       "  'Rouge-L': 25.11104850923276,\n",
       "  'Meteor': 25.30260488242424}}"
      ]
     },
     "execution_count": 7,
     "metadata": {},
     "output_type": "execute_result"
    }
   ],
   "source": [
    "gen_path = \"experimental_results/empirical_study/IN_diff-OUT_subject/test_without_idx.output\"\n",
    "evaluate(ref_path, gen_path, gen_component_list = [\"subject\"])"
   ]
  },
  {
   "attachments": {},
   "cell_type": "markdown",
   "metadata": {},
   "source": [
    "## Empirical Study (Table 3)"
   ]
  },
  {
   "cell_type": "code",
   "execution_count": 8,
   "metadata": {},
   "outputs": [],
   "source": [
    "ref_path = \"experimental_results/empirical_study/reference.txt\" # which is MCMD_{js-m}"
   ]
  },
  {
   "attachments": {},
   "cell_type": "markdown",
   "metadata": {},
   "source": [
    "### 1st experiment row of Table 3"
   ]
  },
  {
   "cell_type": "code",
   "execution_count": 9,
   "metadata": {},
   "outputs": [
    {
     "name": "stderr",
     "output_type": "stream",
     "text": [
      "[nltk_data] Downloading package wordnet to /home/taow/nltk_data...\n",
      "[nltk_data]   Package wordnet is already up-to-date!\n"
     ]
    },
    {
     "data": {
      "text/plain": [
       "{'type': {'accuracy': 62.273641851106646,\n",
       "  'precision': 64.30572582282922,\n",
       "  'recall': 62.273641851106646,\n",
       "  'f1_score': 61.59078836330034},\n",
       " 'scope': {'accuracy': 57.38656987295826,\n",
       "  'precision': 59.69275438562826,\n",
       "  'recall': 57.38656987295826,\n",
       "  'f1_score': 56.67282933722305},\n",
       " 'subject': {'B-Norm': 27.669197251459885,\n",
       "  'Rouge-1': 31.271374823813584,\n",
       "  'Rouge-2': 15.67883514641687,\n",
       "  'Rouge-L': 30.691365420274675,\n",
       "  'Meteor': 30.162643407586646}}"
      ]
     },
     "execution_count": 9,
     "metadata": {},
     "output_type": "execute_result"
    }
   ],
   "source": [
    "gen_path = \"experimental_results/empirical_study/IN_diff-OUT_type_scope_subject/test_without_idx.output\"\n",
    "evaluate(ref_path, gen_path, gen_component_list = [\"type\", \"scope\", \"subject\"], filter_scope_none = True)"
   ]
  },
  {
   "attachments": {},
   "cell_type": "markdown",
   "metadata": {},
   "source": [
    "### 2nd experiment row of Table 3"
   ]
  },
  {
   "cell_type": "code",
   "execution_count": 10,
   "metadata": {},
   "outputs": [
    {
     "name": "stderr",
     "output_type": "stream",
     "text": [
      "[nltk_data] Downloading package wordnet to /home/taow/nltk_data...\n",
      "[nltk_data]   Package wordnet is already up-to-date!\n"
     ]
    },
    {
     "data": {
      "text/plain": [
       "{'type': {'accuracy': 56.76559356136821,\n",
       "  'precision': 54.57536955561625,\n",
       "  'recall': 56.76559356136821,\n",
       "  'f1_score': 54.42356986257953},\n",
       " 'subject': {'B-Norm': 22.813688461401057,\n",
       "  'Rouge-1': 26.056404810868976,\n",
       "  'Rouge-2': 12.169759295425054,\n",
       "  'Rouge-L': 25.655332987335335,\n",
       "  'Meteor': 25.09703979183067}}"
      ]
     },
     "execution_count": 10,
     "metadata": {},
     "output_type": "execute_result"
    }
   ],
   "source": [
    "gen_path = \"experimental_results/empirical_study/IN_diff-OUT_type_subject/test_without_idx.output\"\n",
    "evaluate(ref_path, gen_path, gen_component_list = [\"type\", \"subject\"])"
   ]
  },
  {
   "attachments": {},
   "cell_type": "markdown",
   "metadata": {},
   "source": [
    "### 3rd experiment row of Table 3"
   ]
  },
  {
   "cell_type": "code",
   "execution_count": 12,
   "metadata": {},
   "outputs": [
    {
     "name": "stderr",
     "output_type": "stream",
     "text": [
      "[nltk_data] Downloading package wordnet to /home/taow/nltk_data...\n",
      "[nltk_data]   Package wordnet is already up-to-date!\n"
     ]
    },
    {
     "data": {
      "text/plain": [
       "{'scope': {'accuracy': 45.32193158953722,\n",
       "  'precision': 56.39180948401369,\n",
       "  'recall': 45.32193158953722,\n",
       "  'f1_score': 45.3706268157078},\n",
       " 'subject': {'B-Norm': 21.373949513692466,\n",
       "  'Rouge-1': 24.387522477505843,\n",
       "  'Rouge-2': 11.609204019859092,\n",
       "  'Rouge-L': 24.002373340776014,\n",
       "  'Meteor': 23.553461853020718}}"
      ]
     },
     "execution_count": 12,
     "metadata": {},
     "output_type": "execute_result"
    }
   ],
   "source": [
    "gen_path = \"experimental_results/empirical_study/IN_diff-OUT_scope_subject/test_without_idx.output\" \n",
    "evaluate(\"experimental_results/empirical_study/IN_diff-OUT_scope_subject/test_without_idx.gold\", gen_path, gen_component_list = [\"scope\", \"subject\"], ref_component_list=[\"scope\", \"subject\"])"
   ]
  },
  {
   "attachments": {},
   "cell_type": "markdown",
   "metadata": {},
   "source": [
    "### 4th experiment row of Table 3"
   ]
  },
  {
   "cell_type": "code",
   "execution_count": 13,
   "metadata": {},
   "outputs": [
    {
     "name": "stderr",
     "output_type": "stream",
     "text": [
      "[nltk_data] Downloading package wordnet to /home/taow/nltk_data...\n",
      "[nltk_data]   Package wordnet is already up-to-date!\n"
     ]
    },
    {
     "data": {
      "text/plain": [
       "{'subject': {'B-Norm': 22.340668967071448,\n",
       "  'Rouge-1': 25.498831664472803,\n",
       "  'Rouge-2': 11.627518173212229,\n",
       "  'Rouge-L': 25.11104850923276,\n",
       "  'Meteor': 25.30260488242424}}"
      ]
     },
     "execution_count": 13,
     "metadata": {},
     "output_type": "execute_result"
    }
   ],
   "source": [
    "gen_path = \"experimental_results/empirical_study/IN_diff-OUT_subject/test_without_idx.output\"\n",
    "evaluate(ref_path, gen_path, gen_component_list = [\"subject\"])"
   ]
  },
  {
   "cell_type": "markdown",
   "metadata": {},
   "source": [
    "## Empirical Study (Table 4)"
   ]
  },
  {
   "cell_type": "code",
   "execution_count": 15,
   "metadata": {},
   "outputs": [],
   "source": [
    "setting_dict = {0: \"IN_diff-OUT_subject\", 1: \"IN_diff-OUT_type_scope_subject\", \\\n",
    "                2: \"IN_diff-OUT_type_subject\", 3: \"IN_diff-OUT_scope_subject\"}"
   ]
  },
  {
   "cell_type": "markdown",
   "metadata": {},
   "source": [
    "### Prefix Correct"
   ]
  },
  {
   "cell_type": "code",
   "execution_count": 16,
   "metadata": {},
   "outputs": [
    {
     "name": "stderr",
     "output_type": "stream",
     "text": [
      "[nltk_data] Downloading package wordnet to /home/taow/nltk_data...\n",
      "[nltk_data]   Package wordnet is already up-to-date!\n",
      "[nltk_data] Downloading package wordnet to /home/taow/nltk_data...\n",
      "[nltk_data]   Package wordnet is already up-to-date!\n",
      "[nltk_data] Downloading package wordnet to /home/taow/nltk_data...\n",
      "[nltk_data]   Package wordnet is already up-to-date!\n",
      "[nltk_data] Downloading package wordnet to /home/taow/nltk_data...\n",
      "[nltk_data]   Package wordnet is already up-to-date!\n",
      "[nltk_data] Downloading package wordnet to /home/taow/nltk_data...\n",
      "[nltk_data]   Package wordnet is already up-to-date!\n",
      "[nltk_data] Downloading package wordnet to /home/taow/nltk_data...\n",
      "[nltk_data]   Package wordnet is already up-to-date!\n"
     ]
    }
   ],
   "source": [
    "setting_pre_result = dict()\n",
    "\n",
    "setting_pre_result[1] = get_metric_result(\"experimental_results/empirical_study/\" + setting_dict[0] + \"/correct_1_subject.gen\", \\\n",
    "                                          \"experimental_results/empirical_study/\" + setting_dict[0] + \"/correct_1_subject.ref\")\n",
    "setting_pre_result[2] = get_metric_result(\"experimental_results/empirical_study/\" + setting_dict[0] + \"/correct_2_subject.gen\", \\\n",
    "                                          \"experimental_results/empirical_study/\" + setting_dict[0] + \"/correct_2_subject.ref\")\n",
    "setting_pre_result[3] = get_metric_result(\"experimental_results/empirical_study/\" + setting_dict[0] + \"/correct_3_subject.gen\", \\\n",
    "                                          \"experimental_results/empirical_study/\" + setting_dict[0] + \"/correct_3_subject.ref\")\n",
    "\n",
    "setting_after_result = dict()\n",
    "\n",
    "setting_after_result[1] = get_metric_result(\"experimental_results/empirical_study/\" + setting_dict[1] + \"/correct_1_subject.gen\", \\\n",
    "                                            \"experimental_results/empirical_study/\" + setting_dict[1] + \"/correct_1_subject.ref\")\n",
    "setting_after_result[2] = get_metric_result(\"experimental_results/empirical_study/\" + setting_dict[2] + \"/correct_2_subject.gen\", \\\n",
    "                                            \"experimental_results/empirical_study/\" + setting_dict[2] + \"/correct_2_subject.ref\")\n",
    "setting_after_result[3] = get_metric_result(\"experimental_results/empirical_study/\" + setting_dict[3] + \"/correct_3_subject.gen\", \\\n",
    "                                            \"experimental_results/empirical_study/\" + setting_dict[3] + \"/correct_3_subject.ref\")"
   ]
  },
  {
   "cell_type": "code",
   "execution_count": 17,
   "metadata": {},
   "outputs": [
    {
     "data": {
      "text/plain": [
       "{1: {'B-Norm': 45.02626404596358,\n",
       "  'Rouge-1': 49.507029966931704,\n",
       "  'Rouge-2': 28.875367020887904,\n",
       "  'Rouge-L': 48.98231462172435,\n",
       "  'Meteor': 46.743183539997005},\n",
       " 2: {'B-Norm': 29.033979318943047,\n",
       "  'Rouge-1': 32.90835780162058,\n",
       "  'Rouge-2': 15.301361437279827,\n",
       "  'Rouge-L': 32.475073268833434,\n",
       "  'Meteor': 31.354147702483225},\n",
       " 3: {'B-Norm': 31.064479634312818,\n",
       "  'Rouge-1': 34.0532913924999,\n",
       "  'Rouge-2': 17.482118171057706,\n",
       "  'Rouge-L': 33.67302826909449,\n",
       "  'Meteor': 33.43018365188185}}"
      ]
     },
     "execution_count": 17,
     "metadata": {},
     "output_type": "execute_result"
    }
   ],
   "source": [
    "setting_after_result"
   ]
  },
  {
   "cell_type": "code",
   "execution_count": 19,
   "metadata": {},
   "outputs": [
    {
     "name": "stdout",
     "output_type": "stream",
     "text": [
      "IN_diff-OUT_type_scope_subject\n",
      "B-Norm 9.895050473485767\n",
      "Rouge-1 10.699633689354712\n",
      "Rouge-2 9.306846972233188\n",
      "Rouge-L 10.544854536782708\n",
      "Meteor 10.19726324488208\n",
      "IN_diff-OUT_type_subject\n",
      "B-Norm 1.3034409974388375\n",
      "Rouge-1 1.5596004236963807\n",
      "Rouge-2 1.1438121057214605\n",
      "Rouge-L 1.4961757176990353\n",
      "Meteor 1.6294509782581663\n",
      "IN_diff-OUT_scope_subject\n",
      "B-Norm -0.41420069284799155\n",
      "Rouge-1 -0.24064275755797127\n",
      "Rouge-2 0.5210869577990067\n",
      "Rouge-L -0.25316973824124744\n",
      "Meteor -1.218206728653584\n"
     ]
    }
   ],
   "source": [
    "# improment: setting_after_result - setting_pre_result \n",
    "for i in range(1, 4):\n",
    "    print(setting_dict[i])\n",
    "    for metric in setting_after_result[i]:\n",
    "        print(metric, (setting_after_result[i][metric] - setting_pre_result[i][metric]))"
   ]
  },
  {
   "cell_type": "markdown",
   "metadata": {},
   "source": [
    "### Prefix Wrong\n"
   ]
  },
  {
   "cell_type": "code",
   "execution_count": 20,
   "metadata": {},
   "outputs": [
    {
     "name": "stderr",
     "output_type": "stream",
     "text": [
      "[nltk_data] Downloading package wordnet to /home/taow/nltk_data...\n",
      "[nltk_data]   Package wordnet is already up-to-date!\n",
      "[nltk_data] Downloading package wordnet to /home/taow/nltk_data...\n",
      "[nltk_data]   Package wordnet is already up-to-date!\n",
      "[nltk_data] Downloading package wordnet to /home/taow/nltk_data...\n",
      "[nltk_data]   Package wordnet is already up-to-date!\n",
      "[nltk_data] Downloading package wordnet to /home/taow/nltk_data...\n",
      "[nltk_data]   Package wordnet is already up-to-date!\n",
      "[nltk_data] Downloading package wordnet to /home/taow/nltk_data...\n",
      "[nltk_data]   Package wordnet is already up-to-date!\n",
      "[nltk_data] Downloading package wordnet to /home/taow/nltk_data...\n",
      "[nltk_data]   Package wordnet is already up-to-date!\n"
     ]
    }
   ],
   "source": [
    "setting_pre_result_wrong_part = dict()\n",
    "\n",
    "setting_pre_result_wrong_part[1] = get_metric_result(\"experimental_results/empirical_study/\" + setting_dict[0] + \"/wrong_1_subject.gen\", \\\n",
    "                                          \"experimental_results/empirical_study/\" + setting_dict[0] + \"/wrong_1_subject.ref\")\n",
    "setting_pre_result_wrong_part[2] = get_metric_result(\"experimental_results/empirical_study/\" + setting_dict[0] + \"/wrong_2_subject.gen\", \\\n",
    "                                          \"experimental_results/empirical_study/\" + setting_dict[0] + \"/wrong_2_subject.ref\")\n",
    "setting_pre_result_wrong_part[3] = get_metric_result(\"experimental_results/empirical_study/\" + setting_dict[0] + \"/wrong_3_subject.gen\", \\\n",
    "                                          \"experimental_results/empirical_study/\" + setting_dict[0] + \"/wrong_3_subject.ref\")\n",
    "\n",
    "setting_after_result_wrong_part = dict()\n",
    "\n",
    "setting_after_result_wrong_part[1] = get_metric_result(\"experimental_results/empirical_study/\" + setting_dict[1] + \"/wrong_1_subject.gen\", \\\n",
    "                                            \"experimental_results/empirical_study/\" + setting_dict[1] + \"/wrong_1_subject.ref\")\n",
    "setting_after_result_wrong_part[2] = get_metric_result(\"experimental_results/empirical_study/\" + setting_dict[2] + \"/wrong_2_subject.gen\", \\\n",
    "                                            \"experimental_results/empirical_study/\" + setting_dict[2] + \"/wrong_2_subject.ref\")\n",
    "setting_after_result_wrong_part[3] = get_metric_result(\"experimental_results/empirical_study/\" + setting_dict[3] + \"/wrong_3_subject.gen\", \\\n",
    "                                            \"experimental_results/empirical_study/\" + setting_dict[3] + \"/wrong_3_subject.ref\")"
   ]
  },
  {
   "cell_type": "code",
   "execution_count": 21,
   "metadata": {},
   "outputs": [
    {
     "data": {
      "text/plain": [
       "{1: {'B-Norm': 16.890675273915225,\n",
       "  'Rouge-1': 19.89465281914424,\n",
       "  'Rouge-2': 7.447336710258121,\n",
       "  'Rouge-L': 19.28046671778801,\n",
       "  'Meteor': 23.64972922520836},\n",
       " 2: {'B-Norm': 14.718298595111566,\n",
       "  'Rouge-1': 17.048020019896367,\n",
       "  'Rouge-2': 8.049740826284896,\n",
       "  'Rouge-L': 16.6892426028695,\n",
       "  'Meteor': 21.8444036523026},\n",
       " 3: {'B-Norm': 13.319340916486336,\n",
       "  'Rouge-1': 16.3756937816368,\n",
       "  'Rouge-2': 6.7412227408986976,\n",
       "  'Rouge-L': 15.98649469274019,\n",
       "  'Meteor': 18.02576265640071}}"
      ]
     },
     "execution_count": 21,
     "metadata": {},
     "output_type": "execute_result"
    }
   ],
   "source": [
    "setting_after_result_wrong_part"
   ]
  },
  {
   "cell_type": "code",
   "execution_count": 22,
   "metadata": {},
   "outputs": [
    {
     "name": "stdout",
     "output_type": "stream",
     "text": [
      "IN_diff-OUT_type_scope_subject\n",
      "B-Norm 2.4765637621989196\n",
      "Rouge-1 2.7092042953440547\n",
      "Rouge-2 0.7797459542582459\n",
      "Rouge-L 2.493929283853177\n",
      "Meteor 3.180298539854384\n",
      "IN_diff-OUT_type_subject\n",
      "B-Norm -0.6148586042670505\n",
      "Rouge-1 -0.7483221259278316\n",
      "Rouge-2 -0.24372690752092652\n",
      "Rouge-L -0.6957835475097625\n",
      "Meteor -0.7539765294870726\n",
      "IN_diff-OUT_scope_subject\n",
      "B-Norm -1.501698765124969\n",
      "Rouge-1 -1.8158371347580626\n",
      "Rouge-2 -0.4557789285802647\n",
      "Rouge-L -1.8006363634664826\n",
      "Meteor -1.9829110203920948\n"
     ]
    }
   ],
   "source": [
    "# improment: setting_after_result - setting_pre_result \n",
    "for i in range(1, 4):\n",
    "    print(setting_dict[i])\n",
    "    for metric in setting_after_result_wrong_part[i]:\n",
    "        print(metric, (setting_after_result_wrong_part[i][metric] - setting_pre_result_wrong_part[i][metric]))"
   ]
  },
  {
   "attachments": {},
   "cell_type": "markdown",
   "metadata": {},
   "source": [
    "## Main Results (Table 5, 6, 7, 8)"
   ]
  },
  {
   "cell_type": "markdown",
   "metadata": {},
   "source": [
    "### Classify MCMD into 2 parts: MCMD<sub>pl-u</sub> and MCMD<sub>pl-m</sub>"
   ]
  },
  {
   "cell_type": "code",
   "execution_count": 24,
   "metadata": {},
   "outputs": [
    {
     "name": "stdout",
     "output_type": "stream",
     "text": [
      "javascript: 45000\n",
      "csharp: 45000\n",
      "python: 45000\n",
      "cpp: 45000\n",
      "java: 45000\n",
      "javascript: 45000\n",
      "csharp: 45000\n",
      "python: 45000\n",
      "cpp: 45000\n",
      "java: 45000\n"
     ]
    }
   ],
   "source": [
    "lan_list = [\"javascript\", \"csharp\", \"python\", \"cpp\", \"java\"]\n",
    "baseline_list = [\"CmtGen\", \"NMT\", \"NNGen\",  \"Ptr-Net\", \"CoRec\"]\n",
    "\n",
    "split_lan_match_template_idx_dict = dict()\n",
    "split_lan_unmatch_template_idx_dict = dict()\n",
    "for split_part in [\"\", \"split_time\"]: # \"\" means split_random \n",
    "    if split_part not in split_lan_match_template_idx_dict.keys():\n",
    "        split_lan_match_template_idx_dict[split_part] = dict()\n",
    "        split_lan_unmatch_template_idx_dict[split_part] = dict()\n",
    "    for lan in lan_list:\n",
    "        split_lan_match_template_idx_dict[split_part][lan] = list()\n",
    "        split_lan_unmatch_template_idx_dict[split_part][lan] = list()\n",
    "        folder_path = os.path.join(\"data/cmt_msg_gen\", split_part, \"cut_diff200_msg50\", lan)\n",
    "        with open(os.path.join(folder_path, \"test.match_template.txt\")) as f:\n",
    "            match_template_idx_list = f.read().strip().split(\"\\n\")\n",
    "        match_template_idx_list = [int(idx) for idx in match_template_idx_list]\n",
    "        split_lan_match_template_idx_dict[split_part][lan] = match_template_idx_list\n",
    "\n",
    "        with open(os.path.join(folder_path, \"test.msg.txt\")) as f:\n",
    "            msg_list = f.read().strip().split(\"\\n\")\n",
    "        print(f\"{lan}: {len(msg_list)}\")\n",
    "        dismatched_idx_list = list(set(range(len(msg_list))).difference(set(match_template_idx_list)))\n",
    "        split_lan_unmatch_template_idx_dict[split_part][lan] = dismatched_idx_list"
   ]
  },
  {
   "cell_type": "code",
   "execution_count": 3,
   "metadata": {},
   "outputs": [],
   "source": [
    "# import json\n",
    "# with open(\"experimental_results/temp_m_split_model_lan_score.json\") as f:\n",
    "#     m_split_model_lan_score = json.load(f)\n",
    "# with open(\"experimental_results/temp_u_split_model_lan_score.json\") as f:\n",
    "#     u_split_model_lan_score = json.load(f)"
   ]
  },
  {
   "attachments": {},
   "cell_type": "markdown",
   "metadata": {},
   "source": [
    "### Baselines"
   ]
  },
  {
   "cell_type": "markdown",
   "metadata": {},
   "source": [
    "#### Split Randomly (Table 5 & 6)"
   ]
  },
  {
   "cell_type": "markdown",
   "metadata": {},
   "source": [
    "###### MCMD<sub>pl-u</sub> (Table 6)"
   ]
  },
  {
   "cell_type": "code",
   "execution_count": 27,
   "metadata": {},
   "outputs": [
    {
     "name": "stderr",
     "output_type": "stream",
     "text": [
      "[nltk_data] Downloading package wordnet to /home/taow/nltk_data...\n",
      "[nltk_data]   Package wordnet is already up-to-date!\n"
     ]
    },
    {
     "name": "stdout",
     "output_type": "stream",
     "text": [
      "CmtGen\tjavascript:\t\tBLEU: 16.29\tMETEOR: 18.91\tROUGE: 18.92\n"
     ]
    },
    {
     "name": "stderr",
     "output_type": "stream",
     "text": [
      "[nltk_data] Downloading package wordnet to /home/taow/nltk_data...\n",
      "[nltk_data]   Package wordnet is already up-to-date!\n"
     ]
    },
    {
     "name": "stdout",
     "output_type": "stream",
     "text": [
      "CmtGen\tcsharp:\t\tBLEU: 18.24\tMETEOR: 20.30\tROUGE: 19.41\n"
     ]
    },
    {
     "name": "stderr",
     "output_type": "stream",
     "text": [
      "[nltk_data] Downloading package wordnet to /home/taow/nltk_data...\n",
      "[nltk_data]   Package wordnet is already up-to-date!\n"
     ]
    },
    {
     "name": "stdout",
     "output_type": "stream",
     "text": [
      "CmtGen\tpython:\t\tBLEU: 11.10\tMETEOR: 15.13\tROUGE: 13.01\n"
     ]
    },
    {
     "name": "stderr",
     "output_type": "stream",
     "text": [
      "[nltk_data] Downloading package wordnet to /home/taow/nltk_data...\n",
      "[nltk_data]   Package wordnet is already up-to-date!\n"
     ]
    },
    {
     "name": "stdout",
     "output_type": "stream",
     "text": [
      "CmtGen\tcpp:\t\tBLEU: 11.61\tMETEOR: 14.64\tROUGE: 13.57\n"
     ]
    },
    {
     "name": "stderr",
     "output_type": "stream",
     "text": [
      "[nltk_data] Downloading package wordnet to /home/taow/nltk_data...\n",
      "[nltk_data]   Package wordnet is already up-to-date!\n"
     ]
    },
    {
     "name": "stdout",
     "output_type": "stream",
     "text": [
      "CmtGen\tjava:\t\tBLEU: 12.36\tMETEOR: 14.12\tROUGE: 12.91\n"
     ]
    },
    {
     "name": "stderr",
     "output_type": "stream",
     "text": [
      "[nltk_data] Downloading package wordnet to /home/taow/nltk_data...\n",
      "[nltk_data]   Package wordnet is already up-to-date!\n"
     ]
    },
    {
     "name": "stdout",
     "output_type": "stream",
     "text": [
      "NMT\tjavascript:\t\tBLEU: 16.07\tMETEOR: 19.64\tROUGE: 19.59\n"
     ]
    },
    {
     "name": "stderr",
     "output_type": "stream",
     "text": [
      "[nltk_data] Downloading package wordnet to /home/taow/nltk_data...\n",
      "[nltk_data]   Package wordnet is already up-to-date!\n"
     ]
    },
    {
     "name": "stdout",
     "output_type": "stream",
     "text": [
      "NMT\tcsharp:\t\tBLEU: 17.37\tMETEOR: 19.85\tROUGE: 20.07\n"
     ]
    },
    {
     "name": "stderr",
     "output_type": "stream",
     "text": [
      "[nltk_data] Downloading package wordnet to /home/taow/nltk_data...\n",
      "[nltk_data]   Package wordnet is already up-to-date!\n"
     ]
    },
    {
     "name": "stdout",
     "output_type": "stream",
     "text": [
      "NMT\tpython:\t\tBLEU: 11.52\tMETEOR: 16.37\tROUGE: 14.42\n"
     ]
    },
    {
     "name": "stderr",
     "output_type": "stream",
     "text": [
      "[nltk_data] Downloading package wordnet to /home/taow/nltk_data...\n",
      "[nltk_data]   Package wordnet is already up-to-date!\n"
     ]
    },
    {
     "name": "stdout",
     "output_type": "stream",
     "text": [
      "NMT\tcpp:\t\tBLEU: 11.59\tMETEOR: 14.78\tROUGE: 14.09\n"
     ]
    },
    {
     "name": "stderr",
     "output_type": "stream",
     "text": [
      "[nltk_data] Downloading package wordnet to /home/taow/nltk_data...\n",
      "[nltk_data]   Package wordnet is already up-to-date!\n"
     ]
    },
    {
     "name": "stdout",
     "output_type": "stream",
     "text": [
      "NMT\tjava:\t\tBLEU: 13.39\tMETEOR: 15.99\tROUGE: 15.32\n"
     ]
    },
    {
     "name": "stderr",
     "output_type": "stream",
     "text": [
      "[nltk_data] Downloading package wordnet to /home/taow/nltk_data...\n",
      "[nltk_data]   Package wordnet is already up-to-date!\n"
     ]
    },
    {
     "name": "stdout",
     "output_type": "stream",
     "text": [
      "NNGen\tjavascript:\t\tBLEU: 17.12\tMETEOR: 20.95\tROUGE: 20.44\n"
     ]
    },
    {
     "name": "stderr",
     "output_type": "stream",
     "text": [
      "[nltk_data] Downloading package wordnet to /home/taow/nltk_data...\n",
      "[nltk_data]   Package wordnet is already up-to-date!\n"
     ]
    },
    {
     "name": "stdout",
     "output_type": "stream",
     "text": [
      "NNGen\tcsharp:\t\tBLEU: 22.96\tMETEOR: 26.24\tROUGE: 24.83\n"
     ]
    },
    {
     "name": "stderr",
     "output_type": "stream",
     "text": [
      "[nltk_data] Downloading package wordnet to /home/taow/nltk_data...\n",
      "[nltk_data]   Package wordnet is already up-to-date!\n"
     ]
    },
    {
     "name": "stdout",
     "output_type": "stream",
     "text": [
      "NNGen\tpython:\t\tBLEU: 16.64\tMETEOR: 20.79\tROUGE: 19.43\n"
     ]
    },
    {
     "name": "stderr",
     "output_type": "stream",
     "text": [
      "[nltk_data] Downloading package wordnet to /home/taow/nltk_data...\n",
      "[nltk_data]   Package wordnet is already up-to-date!\n"
     ]
    },
    {
     "name": "stdout",
     "output_type": "stream",
     "text": [
      "NNGen\tcpp:\t\tBLEU: 13.69\tMETEOR: 17.15\tROUGE: 16.25\n"
     ]
    },
    {
     "name": "stderr",
     "output_type": "stream",
     "text": [
      "[nltk_data] Downloading package wordnet to /home/taow/nltk_data...\n",
      "[nltk_data]   Package wordnet is already up-to-date!\n"
     ]
    },
    {
     "name": "stdout",
     "output_type": "stream",
     "text": [
      "NNGen\tjava:\t\tBLEU: 17.79\tMETEOR: 22.09\tROUGE: 20.85\n"
     ]
    },
    {
     "name": "stderr",
     "output_type": "stream",
     "text": [
      "[nltk_data] Downloading package wordnet to /home/taow/nltk_data...\n",
      "[nltk_data]   Package wordnet is already up-to-date!\n"
     ]
    },
    {
     "name": "stdout",
     "output_type": "stream",
     "text": [
      "Ptr-Net\tjavascript:\t\tBLEU: 18.62\tMETEOR: 23.13\tROUGE: 23.59\n"
     ]
    },
    {
     "name": "stderr",
     "output_type": "stream",
     "text": [
      "[nltk_data] Downloading package wordnet to /home/taow/nltk_data...\n",
      "[nltk_data]   Package wordnet is already up-to-date!\n"
     ]
    },
    {
     "name": "stdout",
     "output_type": "stream",
     "text": [
      "Ptr-Net\tcsharp:\t\tBLEU: 19.75\tMETEOR: 22.35\tROUGE: 22.01\n"
     ]
    },
    {
     "name": "stderr",
     "output_type": "stream",
     "text": [
      "[nltk_data] Downloading package wordnet to /home/taow/nltk_data...\n",
      "[nltk_data]   Package wordnet is already up-to-date!\n"
     ]
    },
    {
     "name": "stdout",
     "output_type": "stream",
     "text": [
      "Ptr-Net\tpython:\t\tBLEU: 16.00\tMETEOR: 21.14\tROUGE: 20.74\n"
     ]
    },
    {
     "name": "stderr",
     "output_type": "stream",
     "text": [
      "[nltk_data] Downloading package wordnet to /home/taow/nltk_data...\n",
      "[nltk_data]   Package wordnet is already up-to-date!\n"
     ]
    },
    {
     "name": "stdout",
     "output_type": "stream",
     "text": [
      "Ptr-Net\tcpp:\t\tBLEU: 13.09\tMETEOR: 16.87\tROUGE: 17.09\n"
     ]
    },
    {
     "name": "stderr",
     "output_type": "stream",
     "text": [
      "[nltk_data] Downloading package wordnet to /home/taow/nltk_data...\n",
      "[nltk_data]   Package wordnet is already up-to-date!\n"
     ]
    },
    {
     "name": "stdout",
     "output_type": "stream",
     "text": [
      "Ptr-Net\tjava:\t\tBLEU: 15.33\tMETEOR: 19.13\tROUGE: 18.63\n"
     ]
    },
    {
     "name": "stderr",
     "output_type": "stream",
     "text": [
      "[nltk_data] Downloading package wordnet to /home/taow/nltk_data...\n",
      "[nltk_data]   Package wordnet is already up-to-date!\n"
     ]
    },
    {
     "name": "stdout",
     "output_type": "stream",
     "text": [
      "CoRec\tjavascript:\t\tBLEU: 18.86\tMETEOR: 22.40\tROUGE: 22.47\n"
     ]
    },
    {
     "name": "stderr",
     "output_type": "stream",
     "text": [
      "[nltk_data] Downloading package wordnet to /home/taow/nltk_data...\n",
      "[nltk_data]   Package wordnet is already up-to-date!\n"
     ]
    },
    {
     "name": "stdout",
     "output_type": "stream",
     "text": [
      "CoRec\tcsharp:\t\tBLEU: 22.29\tMETEOR: 25.43\tROUGE: 24.92\n"
     ]
    },
    {
     "name": "stderr",
     "output_type": "stream",
     "text": [
      "[nltk_data] Downloading package wordnet to /home/taow/nltk_data...\n",
      "[nltk_data]   Package wordnet is already up-to-date!\n"
     ]
    },
    {
     "name": "stdout",
     "output_type": "stream",
     "text": [
      "CoRec\tpython:\t\tBLEU: 15.13\tMETEOR: 20.25\tROUGE: 18.81\n"
     ]
    },
    {
     "name": "stderr",
     "output_type": "stream",
     "text": [
      "[nltk_data] Downloading package wordnet to /home/taow/nltk_data...\n",
      "[nltk_data]   Package wordnet is already up-to-date!\n"
     ]
    },
    {
     "name": "stdout",
     "output_type": "stream",
     "text": [
      "CoRec\tcpp:\t\tBLEU: 13.83\tMETEOR: 17.43\tROUGE: 16.65\n"
     ]
    },
    {
     "name": "stderr",
     "output_type": "stream",
     "text": [
      "[nltk_data] Downloading package wordnet to /home/taow/nltk_data...\n",
      "[nltk_data]   Package wordnet is already up-to-date!\n"
     ]
    },
    {
     "name": "stdout",
     "output_type": "stream",
     "text": [
      "CoRec\tjava:\t\tBLEU: 16.09\tMETEOR: 19.57\tROUGE: 18.66\n"
     ]
    }
   ],
   "source": [
    "u_split_model_lan_score = dict()\n",
    "split_part = \"\"\n",
    "u_split_model_lan_score[split_part] = dict()\n",
    "for model_name in baseline_list:\n",
    "    u_split_model_lan_score[split_part][model_name] = dict()\n",
    "    for lan in lan_list:\n",
    "        gen_path = f\"experimental_results/model_{model_name}/{split_part}/{lan}/gen.msg\"\n",
    "        ref_path = f\"data/cmt_msg_gen/{split_part}/cut_diff200_msg50/{lan}/test.msg.txt\"\n",
    "        u_split_model_lan_score[split_part][model_name][lan] = evaluate(ref_path, gen_path, gen_component_list = ['subject'], ref_component_list = [\"subject\"],\n",
    "                                                idx_list = split_lan_unmatch_template_idx_dict[split_part][lan])\n",
    "        print((f\"{model_name}\\t{lan}:\\t\\t\"\n",
    "               f\"BLEU: {u_split_model_lan_score[split_part][model_name][lan]['subject']['B-Norm']:.2f}\\t\"\n",
    "               f\"METEOR: {u_split_model_lan_score[split_part][model_name][lan]['subject']['Meteor']:.2f}\\t\"\n",
    "               f\"ROUGE: {u_split_model_lan_score[split_part][model_name][lan]['subject']['Rouge-L']:.2f}\"))"
   ]
  },
  {
   "cell_type": "markdown",
   "metadata": {},
   "source": [
    "###### MCMD<sub>pl-m</sub> (Table 6)"
   ]
  },
  {
   "cell_type": "code",
   "execution_count": 32,
   "metadata": {},
   "outputs": [
    {
     "name": "stderr",
     "output_type": "stream",
     "text": [
      "[nltk_data] Downloading package wordnet to /home/taow/nltk_data...\n",
      "[nltk_data]   Package wordnet is already up-to-date!\n"
     ]
    },
    {
     "name": "stdout",
     "output_type": "stream",
     "text": [
      "CmtGen\tjavascript:\t\tBLEU: 28.92\tMETEOR: 36.97\tROUGE: 30.53\n"
     ]
    },
    {
     "name": "stderr",
     "output_type": "stream",
     "text": [
      "[nltk_data] Downloading package wordnet to /home/taow/nltk_data...\n",
      "[nltk_data]   Package wordnet is already up-to-date!\n"
     ]
    },
    {
     "name": "stdout",
     "output_type": "stream",
     "text": [
      "CmtGen\tcsharp:\t\tBLEU: 6.25\tMETEOR: 5.86\tROUGE: 7.42\n"
     ]
    },
    {
     "name": "stderr",
     "output_type": "stream",
     "text": [
      "[nltk_data] Downloading package wordnet to /home/taow/nltk_data...\n",
      "[nltk_data]   Package wordnet is already up-to-date!\n"
     ]
    },
    {
     "name": "stdout",
     "output_type": "stream",
     "text": [
      "CmtGen\tpython:\t\tBLEU: 11.43\tMETEOR: 19.53\tROUGE: 12.74\n"
     ]
    },
    {
     "name": "stderr",
     "output_type": "stream",
     "text": [
      "[nltk_data] Downloading package wordnet to /home/taow/nltk_data...\n",
      "[nltk_data]   Package wordnet is already up-to-date!\n"
     ]
    },
    {
     "name": "stdout",
     "output_type": "stream",
     "text": [
      "CmtGen\tcpp:\t\tBLEU: 6.72\tMETEOR: 10.57\tROUGE: 7.99\n"
     ]
    },
    {
     "name": "stderr",
     "output_type": "stream",
     "text": [
      "[nltk_data] Downloading package wordnet to /home/taow/nltk_data...\n",
      "[nltk_data]   Package wordnet is already up-to-date!\n"
     ]
    },
    {
     "name": "stdout",
     "output_type": "stream",
     "text": [
      "CmtGen\tjava:\t\tBLEU: 19.77\tMETEOR: 24.29\tROUGE: 21.72\n"
     ]
    },
    {
     "name": "stderr",
     "output_type": "stream",
     "text": [
      "[nltk_data] Downloading package wordnet to /home/taow/nltk_data...\n",
      "[nltk_data]   Package wordnet is already up-to-date!\n"
     ]
    },
    {
     "name": "stdout",
     "output_type": "stream",
     "text": [
      "NMT\tjavascript:\t\tBLEU: 27.49\tMETEOR: 36.54\tROUGE: 30.37\n"
     ]
    },
    {
     "name": "stderr",
     "output_type": "stream",
     "text": [
      "[nltk_data] Downloading package wordnet to /home/taow/nltk_data...\n",
      "[nltk_data]   Package wordnet is already up-to-date!\n"
     ]
    },
    {
     "name": "stdout",
     "output_type": "stream",
     "text": [
      "NMT\tcsharp:\t\tBLEU: 10.92\tMETEOR: 13.67\tROUGE: 13.68\n"
     ]
    },
    {
     "name": "stderr",
     "output_type": "stream",
     "text": [
      "[nltk_data] Downloading package wordnet to /home/taow/nltk_data...\n",
      "[nltk_data]   Package wordnet is already up-to-date!\n"
     ]
    },
    {
     "name": "stdout",
     "output_type": "stream",
     "text": [
      "NMT\tpython:\t\tBLEU: 11.34\tMETEOR: 20.87\tROUGE: 13.00\n"
     ]
    },
    {
     "name": "stderr",
     "output_type": "stream",
     "text": [
      "[nltk_data] Downloading package wordnet to /home/taow/nltk_data...\n",
      "[nltk_data]   Package wordnet is already up-to-date!\n"
     ]
    },
    {
     "name": "stdout",
     "output_type": "stream",
     "text": [
      "NMT\tcpp:\t\tBLEU: 6.73\tMETEOR: 10.37\tROUGE: 7.04\n"
     ]
    },
    {
     "name": "stderr",
     "output_type": "stream",
     "text": [
      "[nltk_data] Downloading package wordnet to /home/taow/nltk_data...\n",
      "[nltk_data]   Package wordnet is already up-to-date!\n"
     ]
    },
    {
     "name": "stdout",
     "output_type": "stream",
     "text": [
      "NMT\tjava:\t\tBLEU: 14.01\tMETEOR: 18.40\tROUGE: 18.31\n"
     ]
    },
    {
     "name": "stderr",
     "output_type": "stream",
     "text": [
      "[nltk_data] Downloading package wordnet to /home/taow/nltk_data...\n",
      "[nltk_data]   Package wordnet is already up-to-date!\n"
     ]
    },
    {
     "name": "stdout",
     "output_type": "stream",
     "text": [
      "NNGen\tjavascript:\t\tBLEU: 27.39\tMETEOR: 38.00\tROUGE: 29.84\n"
     ]
    },
    {
     "name": "stderr",
     "output_type": "stream",
     "text": [
      "[nltk_data] Downloading package wordnet to /home/taow/nltk_data...\n",
      "[nltk_data]   Package wordnet is already up-to-date!\n"
     ]
    },
    {
     "name": "stdout",
     "output_type": "stream",
     "text": [
      "NNGen\tcsharp:\t\tBLEU: 17.46\tMETEOR: 23.48\tROUGE: 20.76\n"
     ]
    },
    {
     "name": "stderr",
     "output_type": "stream",
     "text": [
      "[nltk_data] Downloading package wordnet to /home/taow/nltk_data...\n",
      "[nltk_data]   Package wordnet is already up-to-date!\n"
     ]
    },
    {
     "name": "stdout",
     "output_type": "stream",
     "text": [
      "NNGen\tpython:\t\tBLEU: 16.78\tMETEOR: 28.27\tROUGE: 20.41\n"
     ]
    },
    {
     "name": "stderr",
     "output_type": "stream",
     "text": [
      "[nltk_data] Downloading package wordnet to /home/taow/nltk_data...\n",
      "[nltk_data]   Package wordnet is already up-to-date!\n"
     ]
    },
    {
     "name": "stdout",
     "output_type": "stream",
     "text": [
      "NNGen\tcpp:\t\tBLEU: 13.89\tMETEOR: 21.87\tROUGE: 16.53\n"
     ]
    },
    {
     "name": "stderr",
     "output_type": "stream",
     "text": [
      "[nltk_data] Downloading package wordnet to /home/taow/nltk_data...\n",
      "[nltk_data]   Package wordnet is already up-to-date!\n"
     ]
    },
    {
     "name": "stdout",
     "output_type": "stream",
     "text": [
      "NNGen\tjava:\t\tBLEU: 23.03\tMETEOR: 29.85\tROUGE: 26.70\n"
     ]
    },
    {
     "name": "stderr",
     "output_type": "stream",
     "text": [
      "[nltk_data] Downloading package wordnet to /home/taow/nltk_data...\n",
      "[nltk_data]   Package wordnet is already up-to-date!\n"
     ]
    },
    {
     "name": "stdout",
     "output_type": "stream",
     "text": [
      "Ptr-Net\tjavascript:\t\tBLEU: 29.53\tMETEOR: 39.92\tROUGE: 35.01\n"
     ]
    },
    {
     "name": "stderr",
     "output_type": "stream",
     "text": [
      "[nltk_data] Downloading package wordnet to /home/taow/nltk_data...\n",
      "[nltk_data]   Package wordnet is already up-to-date!\n"
     ]
    },
    {
     "name": "stdout",
     "output_type": "stream",
     "text": [
      "Ptr-Net\tcsharp:\t\tBLEU: 15.90\tMETEOR: 20.28\tROUGE: 19.11\n"
     ]
    },
    {
     "name": "stderr",
     "output_type": "stream",
     "text": [
      "[nltk_data] Downloading package wordnet to /home/taow/nltk_data...\n",
      "[nltk_data]   Package wordnet is already up-to-date!\n"
     ]
    },
    {
     "name": "stdout",
     "output_type": "stream",
     "text": [
      "Ptr-Net\tpython:\t\tBLEU: 15.47\tMETEOR: 26.40\tROUGE: 22.69\n"
     ]
    },
    {
     "name": "stderr",
     "output_type": "stream",
     "text": [
      "[nltk_data] Downloading package wordnet to /home/taow/nltk_data...\n",
      "[nltk_data]   Package wordnet is already up-to-date!\n"
     ]
    },
    {
     "name": "stdout",
     "output_type": "stream",
     "text": [
      "Ptr-Net\tcpp:\t\tBLEU: 10.22\tMETEOR: 15.51\tROUGE: 15.79\n"
     ]
    },
    {
     "name": "stderr",
     "output_type": "stream",
     "text": [
      "[nltk_data] Downloading package wordnet to /home/taow/nltk_data...\n",
      "[nltk_data]   Package wordnet is already up-to-date!\n"
     ]
    },
    {
     "name": "stdout",
     "output_type": "stream",
     "text": [
      "Ptr-Net\tjava:\t\tBLEU: 15.17\tMETEOR: 18.91\tROUGE: 20.13\n"
     ]
    },
    {
     "name": "stderr",
     "output_type": "stream",
     "text": [
      "[nltk_data] Downloading package wordnet to /home/taow/nltk_data...\n",
      "[nltk_data]   Package wordnet is already up-to-date!\n"
     ]
    },
    {
     "name": "stdout",
     "output_type": "stream",
     "text": [
      "CoRec\tjavascript:\t\tBLEU: 29.88\tMETEOR: 38.78\tROUGE: 32.62\n"
     ]
    },
    {
     "name": "stderr",
     "output_type": "stream",
     "text": [
      "[nltk_data] Downloading package wordnet to /home/taow/nltk_data...\n",
      "[nltk_data]   Package wordnet is already up-to-date!\n"
     ]
    },
    {
     "name": "stdout",
     "output_type": "stream",
     "text": [
      "CoRec\tcsharp:\t\tBLEU: 14.83\tMETEOR: 18.57\tROUGE: 17.93\n"
     ]
    },
    {
     "name": "stderr",
     "output_type": "stream",
     "text": [
      "[nltk_data] Downloading package wordnet to /home/taow/nltk_data...\n",
      "[nltk_data]   Package wordnet is already up-to-date!\n"
     ]
    },
    {
     "name": "stdout",
     "output_type": "stream",
     "text": [
      "CoRec\tpython:\t\tBLEU: 15.28\tMETEOR: 25.39\tROUGE: 19.48\n"
     ]
    },
    {
     "name": "stderr",
     "output_type": "stream",
     "text": [
      "[nltk_data] Downloading package wordnet to /home/taow/nltk_data...\n",
      "[nltk_data]   Package wordnet is already up-to-date!\n"
     ]
    },
    {
     "name": "stdout",
     "output_type": "stream",
     "text": [
      "CoRec\tcpp:\t\tBLEU: 9.99\tMETEOR: 16.35\tROUGE: 11.87\n"
     ]
    },
    {
     "name": "stderr",
     "output_type": "stream",
     "text": [
      "[nltk_data] Downloading package wordnet to /home/taow/nltk_data...\n",
      "[nltk_data]   Package wordnet is already up-to-date!\n"
     ]
    },
    {
     "name": "stdout",
     "output_type": "stream",
     "text": [
      "CoRec\tjava:\t\tBLEU: 16.47\tMETEOR: 22.02\tROUGE: 20.14\n"
     ]
    }
   ],
   "source": [
    "m_split_model_lan_score = dict()\n",
    "split_part = \"\"\n",
    "m_split_model_lan_score[split_part] = dict()\n",
    "for model_name in baseline_list:\n",
    "    m_split_model_lan_score[split_part][model_name] = dict()\n",
    "    for lan in lan_list:\n",
    "        gen_path = f\"experimental_results/model_{model_name}/{split_part}/{lan}/gen.msg\"\n",
    "        ref_path = f\"data/cmt_msg_gen/{split_part}/cut_diff200_msg50/{lan}/test.msg.txt\"\n",
    "        m_split_model_lan_score[split_part][model_name][lan] = evaluate(ref_path, gen_path, gen_component_list = ['subject'], ref_component_list = [\"subject\"],\n",
    "                                                idx_list = split_lan_match_template_idx_dict[split_part][lan])\n",
    "        print((f\"{model_name}\\t{lan}:\\t\\t\"\n",
    "               f\"BLEU: {m_split_model_lan_score[split_part][model_name][lan]['subject']['B-Norm']:.2f}\\t\"\n",
    "               f\"METEOR: {m_split_model_lan_score[split_part][model_name][lan]['subject']['Meteor']:.2f}\\t\"\n",
    "               f\"ROUGE: {m_split_model_lan_score[split_part][model_name][lan]['subject']['Rouge-L']:.2f}\"))"
   ]
  },
  {
   "cell_type": "markdown",
   "metadata": {},
   "source": [
    "#### Split by Time (Table 7 & 8)"
   ]
  },
  {
   "cell_type": "markdown",
   "metadata": {},
   "source": [
    "##### MCMD<sub>pl-u</sub> (Table 8)"
   ]
  },
  {
   "cell_type": "code",
   "execution_count": 33,
   "metadata": {},
   "outputs": [
    {
     "name": "stderr",
     "output_type": "stream",
     "text": [
      "[nltk_data] Downloading package wordnet to /home/taow/nltk_data...\n",
      "[nltk_data]   Package wordnet is already up-to-date!\n"
     ]
    },
    {
     "name": "stdout",
     "output_type": "stream",
     "text": [
      "CmtGen\tjavascript:\t\tBLEU: 8.72\tMETEOR: 10.98\tROUGE: 11.57\n"
     ]
    },
    {
     "name": "stderr",
     "output_type": "stream",
     "text": [
      "[nltk_data] Downloading package wordnet to /home/taow/nltk_data...\n",
      "[nltk_data]   Package wordnet is already up-to-date!\n"
     ]
    },
    {
     "name": "stdout",
     "output_type": "stream",
     "text": [
      "CmtGen\tcsharp:\t\tBLEU: 4.73\tMETEOR: 6.24\tROUGE: 7.37\n"
     ]
    },
    {
     "name": "stderr",
     "output_type": "stream",
     "text": [
      "[nltk_data] Downloading package wordnet to /home/taow/nltk_data...\n",
      "[nltk_data]   Package wordnet is already up-to-date!\n"
     ]
    },
    {
     "name": "stdout",
     "output_type": "stream",
     "text": [
      "CmtGen\tpython:\t\tBLEU: 5.61\tMETEOR: 6.84\tROUGE: 7.73\n"
     ]
    },
    {
     "name": "stderr",
     "output_type": "stream",
     "text": [
      "[nltk_data] Downloading package wordnet to /home/taow/nltk_data...\n",
      "[nltk_data]   Package wordnet is already up-to-date!\n"
     ]
    },
    {
     "name": "stdout",
     "output_type": "stream",
     "text": [
      "CmtGen\tcpp:\t\tBLEU: 7.17\tMETEOR: 9.08\tROUGE: 9.92\n"
     ]
    },
    {
     "name": "stderr",
     "output_type": "stream",
     "text": [
      "[nltk_data] Downloading package wordnet to /home/taow/nltk_data...\n",
      "[nltk_data]   Package wordnet is already up-to-date!\n"
     ]
    },
    {
     "name": "stdout",
     "output_type": "stream",
     "text": [
      "CmtGen\tjava:\t\tBLEU: 8.14\tMETEOR: 9.30\tROUGE: 8.79\n"
     ]
    },
    {
     "name": "stderr",
     "output_type": "stream",
     "text": [
      "[nltk_data] Downloading package wordnet to /home/taow/nltk_data...\n",
      "[nltk_data]   Package wordnet is already up-to-date!\n"
     ]
    },
    {
     "name": "stdout",
     "output_type": "stream",
     "text": [
      "NMT\tjavascript:\t\tBLEU: 12.02\tMETEOR: 16.08\tROUGE: 15.03\n"
     ]
    },
    {
     "name": "stderr",
     "output_type": "stream",
     "text": [
      "[nltk_data] Downloading package wordnet to /home/taow/nltk_data...\n",
      "[nltk_data]   Package wordnet is already up-to-date!\n"
     ]
    },
    {
     "name": "stdout",
     "output_type": "stream",
     "text": [
      "NMT\tcsharp:\t\tBLEU: 5.36\tMETEOR: 8.11\tROUGE: 8.77\n"
     ]
    },
    {
     "name": "stderr",
     "output_type": "stream",
     "text": [
      "[nltk_data] Downloading package wordnet to /home/taow/nltk_data...\n",
      "[nltk_data]   Package wordnet is already up-to-date!\n"
     ]
    },
    {
     "name": "stdout",
     "output_type": "stream",
     "text": [
      "NMT\tpython:\t\tBLEU: 7.34\tMETEOR: 11.22\tROUGE: 8.54\n"
     ]
    },
    {
     "name": "stderr",
     "output_type": "stream",
     "text": [
      "[nltk_data] Downloading package wordnet to /home/taow/nltk_data...\n",
      "[nltk_data]   Package wordnet is already up-to-date!\n"
     ]
    },
    {
     "name": "stdout",
     "output_type": "stream",
     "text": [
      "NMT\tcpp:\t\tBLEU: 8.54\tMETEOR: 11.13\tROUGE: 10.63\n"
     ]
    },
    {
     "name": "stderr",
     "output_type": "stream",
     "text": [
      "[nltk_data] Downloading package wordnet to /home/taow/nltk_data...\n",
      "[nltk_data]   Package wordnet is already up-to-date!\n"
     ]
    },
    {
     "name": "stdout",
     "output_type": "stream",
     "text": [
      "NMT\tjava:\t\tBLEU: 9.55\tMETEOR: 13.94\tROUGE: 11.16\n"
     ]
    },
    {
     "name": "stderr",
     "output_type": "stream",
     "text": [
      "[nltk_data] Downloading package wordnet to /home/taow/nltk_data...\n",
      "[nltk_data]   Package wordnet is already up-to-date!\n"
     ]
    },
    {
     "name": "stdout",
     "output_type": "stream",
     "text": [
      "NNGen\tjavascript:\t\tBLEU: 11.43\tMETEOR: 16.01\tROUGE: 12.31\n"
     ]
    },
    {
     "name": "stderr",
     "output_type": "stream",
     "text": [
      "[nltk_data] Downloading package wordnet to /home/taow/nltk_data...\n",
      "[nltk_data]   Package wordnet is already up-to-date!\n"
     ]
    },
    {
     "name": "stdout",
     "output_type": "stream",
     "text": [
      "NNGen\tcsharp:\t\tBLEU: 8.08\tMETEOR: 10.84\tROUGE: 8.95\n"
     ]
    },
    {
     "name": "stderr",
     "output_type": "stream",
     "text": [
      "[nltk_data] Downloading package wordnet to /home/taow/nltk_data...\n",
      "[nltk_data]   Package wordnet is already up-to-date!\n"
     ]
    },
    {
     "name": "stdout",
     "output_type": "stream",
     "text": [
      "NNGen\tpython:\t\tBLEU: 9.32\tMETEOR: 13.78\tROUGE: 9.79\n"
     ]
    },
    {
     "name": "stderr",
     "output_type": "stream",
     "text": [
      "[nltk_data] Downloading package wordnet to /home/taow/nltk_data...\n",
      "[nltk_data]   Package wordnet is already up-to-date!\n"
     ]
    },
    {
     "name": "stdout",
     "output_type": "stream",
     "text": [
      "NNGen\tcpp:\t\tBLEU: 9.32\tMETEOR: 12.28\tROUGE: 10.57\n"
     ]
    },
    {
     "name": "stderr",
     "output_type": "stream",
     "text": [
      "[nltk_data] Downloading package wordnet to /home/taow/nltk_data...\n",
      "[nltk_data]   Package wordnet is already up-to-date!\n"
     ]
    },
    {
     "name": "stdout",
     "output_type": "stream",
     "text": [
      "NNGen\tjava:\t\tBLEU: 10.77\tMETEOR: 14.41\tROUGE: 11.61\n"
     ]
    },
    {
     "name": "stderr",
     "output_type": "stream",
     "text": [
      "[nltk_data] Downloading package wordnet to /home/taow/nltk_data...\n",
      "[nltk_data]   Package wordnet is already up-to-date!\n"
     ]
    },
    {
     "name": "stdout",
     "output_type": "stream",
     "text": [
      "Ptr-Net\tjavascript:\t\tBLEU: 17.36\tMETEOR: 22.89\tROUGE: 21.68\n"
     ]
    },
    {
     "name": "stderr",
     "output_type": "stream",
     "text": [
      "[nltk_data] Downloading package wordnet to /home/taow/nltk_data...\n",
      "[nltk_data]   Package wordnet is already up-to-date!\n"
     ]
    },
    {
     "name": "stdout",
     "output_type": "stream",
     "text": [
      "Ptr-Net\tcsharp:\t\tBLEU: 9.57\tMETEOR: 12.52\tROUGE: 11.70\n"
     ]
    },
    {
     "name": "stderr",
     "output_type": "stream",
     "text": [
      "[nltk_data] Downloading package wordnet to /home/taow/nltk_data...\n",
      "[nltk_data]   Package wordnet is already up-to-date!\n"
     ]
    },
    {
     "name": "stdout",
     "output_type": "stream",
     "text": [
      "Ptr-Net\tpython:\t\tBLEU: 13.21\tMETEOR: 19.97\tROUGE: 17.08\n"
     ]
    },
    {
     "name": "stderr",
     "output_type": "stream",
     "text": [
      "[nltk_data] Downloading package wordnet to /home/taow/nltk_data...\n",
      "[nltk_data]   Package wordnet is already up-to-date!\n"
     ]
    },
    {
     "name": "stdout",
     "output_type": "stream",
     "text": [
      "Ptr-Net\tcpp:\t\tBLEU: 10.95\tMETEOR: 14.35\tROUGE: 13.51\n"
     ]
    },
    {
     "name": "stderr",
     "output_type": "stream",
     "text": [
      "[nltk_data] Downloading package wordnet to /home/taow/nltk_data...\n",
      "[nltk_data]   Package wordnet is already up-to-date!\n"
     ]
    },
    {
     "name": "stdout",
     "output_type": "stream",
     "text": [
      "Ptr-Net\tjava:\t\tBLEU: 13.35\tMETEOR: 17.62\tROUGE: 15.73\n"
     ]
    },
    {
     "name": "stderr",
     "output_type": "stream",
     "text": [
      "[nltk_data] Downloading package wordnet to /home/taow/nltk_data...\n",
      "[nltk_data]   Package wordnet is already up-to-date!\n"
     ]
    },
    {
     "name": "stdout",
     "output_type": "stream",
     "text": [
      "CoRec\tjavascript:\t\tBLEU: 15.33\tMETEOR: 19.96\tROUGE: 17.58\n"
     ]
    },
    {
     "name": "stderr",
     "output_type": "stream",
     "text": [
      "[nltk_data] Downloading package wordnet to /home/taow/nltk_data...\n",
      "[nltk_data]   Package wordnet is already up-to-date!\n"
     ]
    },
    {
     "name": "stdout",
     "output_type": "stream",
     "text": [
      "CoRec\tcsharp:\t\tBLEU: 9.52\tMETEOR: 12.11\tROUGE: 11.70\n"
     ]
    },
    {
     "name": "stderr",
     "output_type": "stream",
     "text": [
      "[nltk_data] Downloading package wordnet to /home/taow/nltk_data...\n",
      "[nltk_data]   Package wordnet is already up-to-date!\n"
     ]
    },
    {
     "name": "stdout",
     "output_type": "stream",
     "text": [
      "CoRec\tpython:\t\tBLEU: 11.06\tMETEOR: 16.21\tROUGE: 12.93\n"
     ]
    },
    {
     "name": "stderr",
     "output_type": "stream",
     "text": [
      "[nltk_data] Downloading package wordnet to /home/taow/nltk_data...\n",
      "[nltk_data]   Package wordnet is already up-to-date!\n"
     ]
    },
    {
     "name": "stdout",
     "output_type": "stream",
     "text": [
      "CoRec\tcpp:\t\tBLEU: 11.77\tMETEOR: 15.41\tROUGE: 14.41\n"
     ]
    },
    {
     "name": "stderr",
     "output_type": "stream",
     "text": [
      "[nltk_data] Downloading package wordnet to /home/taow/nltk_data...\n",
      "[nltk_data]   Package wordnet is already up-to-date!\n"
     ]
    },
    {
     "name": "stdout",
     "output_type": "stream",
     "text": [
      "CoRec\tjava:\t\tBLEU: 13.02\tMETEOR: 16.74\tROUGE: 14.46\n"
     ]
    }
   ],
   "source": [
    "split_part = \"split_time\"\n",
    "u_split_model_lan_score[split_part] = dict()\n",
    "for model_name in baseline_list:\n",
    "    u_split_model_lan_score[split_part][model_name] = dict()\n",
    "    for lan in lan_list:\n",
    "        gen_path = f\"experimental_results/model_{model_name}/{split_part}/{lan}/gen.msg\"\n",
    "        ref_path = f\"data/cmt_msg_gen/{split_part}/cut_diff200_msg50/{lan}/test.msg.txt\"\n",
    "        u_split_model_lan_score[split_part][model_name][lan] = evaluate(ref_path, gen_path, gen_component_list = ['subject'], ref_component_list = [\"subject\"],\n",
    "                                                idx_list = split_lan_unmatch_template_idx_dict[split_part][lan])\n",
    "        print((f\"{model_name}\\t{lan}:\\t\\t\"\n",
    "               f\"BLEU: {u_split_model_lan_score[split_part][model_name][lan]['subject']['B-Norm']:.2f}\\t\"\n",
    "               f\"METEOR: {u_split_model_lan_score[split_part][model_name][lan]['subject']['Meteor']:.2f}\\t\"\n",
    "               f\"ROUGE: {u_split_model_lan_score[split_part][model_name][lan]['subject']['Rouge-L']:.2f}\"))"
   ]
  },
  {
   "cell_type": "markdown",
   "metadata": {},
   "source": [
    "##### MCMD<sub>pl-m</sub> (Table 8)"
   ]
  },
  {
   "cell_type": "code",
   "execution_count": 38,
   "metadata": {},
   "outputs": [
    {
     "name": "stderr",
     "output_type": "stream",
     "text": [
      "[nltk_data] Downloading package wordnet to /home/taow/nltk_data...\n",
      "[nltk_data]   Package wordnet is already up-to-date!\n"
     ]
    },
    {
     "name": "stdout",
     "output_type": "stream",
     "text": [
      "CmtGen\tjavascript:\t\tBLEU: 9.69\tMETEOR: 11.72\tROUGE: 13.94\n"
     ]
    },
    {
     "name": "stderr",
     "output_type": "stream",
     "text": [
      "[nltk_data] Downloading package wordnet to /home/taow/nltk_data...\n",
      "[nltk_data]   Package wordnet is already up-to-date!\n"
     ]
    },
    {
     "name": "stdout",
     "output_type": "stream",
     "text": [
      "CmtGen\tcsharp:\t\tBLEU: 1.26\tMETEOR: 1.52\tROUGE: 1.79\n"
     ]
    },
    {
     "name": "stderr",
     "output_type": "stream",
     "text": [
      "[nltk_data] Downloading package wordnet to /home/taow/nltk_data...\n",
      "[nltk_data]   Package wordnet is already up-to-date!\n"
     ]
    },
    {
     "name": "stdout",
     "output_type": "stream",
     "text": [
      "CmtGen\tpython:\t\tBLEU: 1.66\tMETEOR: 2.30\tROUGE: 3.04\n"
     ]
    },
    {
     "name": "stderr",
     "output_type": "stream",
     "text": [
      "[nltk_data] Downloading package wordnet to /home/taow/nltk_data...\n",
      "[nltk_data]   Package wordnet is already up-to-date!\n"
     ]
    },
    {
     "name": "stdout",
     "output_type": "stream",
     "text": [
      "CmtGen\tcpp:\t\tBLEU: 1.56\tMETEOR: 1.62\tROUGE: 2.60\n"
     ]
    },
    {
     "name": "stderr",
     "output_type": "stream",
     "text": [
      "[nltk_data] Downloading package wordnet to /home/taow/nltk_data...\n",
      "[nltk_data]   Package wordnet is already up-to-date!\n"
     ]
    },
    {
     "name": "stdout",
     "output_type": "stream",
     "text": [
      "CmtGen\tjava:\t\tBLEU: 3.15\tMETEOR: 3.47\tROUGE: 4.60\n"
     ]
    },
    {
     "name": "stderr",
     "output_type": "stream",
     "text": [
      "[nltk_data] Downloading package wordnet to /home/taow/nltk_data...\n",
      "[nltk_data]   Package wordnet is already up-to-date!\n"
     ]
    },
    {
     "name": "stdout",
     "output_type": "stream",
     "text": [
      "NMT\tjavascript:\t\tBLEU: 9.86\tMETEOR: 13.41\tROUGE: 12.12\n"
     ]
    },
    {
     "name": "stderr",
     "output_type": "stream",
     "text": [
      "[nltk_data] Downloading package wordnet to /home/taow/nltk_data...\n",
      "[nltk_data]   Package wordnet is already up-to-date!\n"
     ]
    },
    {
     "name": "stdout",
     "output_type": "stream",
     "text": [
      "NMT\tcsharp:\t\tBLEU: 1.76\tMETEOR: 1.37\tROUGE: 2.74\n"
     ]
    },
    {
     "name": "stderr",
     "output_type": "stream",
     "text": [
      "[nltk_data] Downloading package wordnet to /home/taow/nltk_data...\n",
      "[nltk_data]   Package wordnet is already up-to-date!\n"
     ]
    },
    {
     "name": "stdout",
     "output_type": "stream",
     "text": [
      "NMT\tpython:\t\tBLEU: 6.38\tMETEOR: 9.71\tROUGE: 4.48\n"
     ]
    },
    {
     "name": "stderr",
     "output_type": "stream",
     "text": [
      "[nltk_data] Downloading package wordnet to /home/taow/nltk_data...\n",
      "[nltk_data]   Package wordnet is already up-to-date!\n"
     ]
    },
    {
     "name": "stdout",
     "output_type": "stream",
     "text": [
      "NMT\tcpp:\t\tBLEU: 7.67\tMETEOR: 9.48\tROUGE: 8.66\n"
     ]
    },
    {
     "name": "stderr",
     "output_type": "stream",
     "text": [
      "[nltk_data] Downloading package wordnet to /home/taow/nltk_data...\n",
      "[nltk_data]   Package wordnet is already up-to-date!\n"
     ]
    },
    {
     "name": "stdout",
     "output_type": "stream",
     "text": [
      "NMT\tjava:\t\tBLEU: 5.29\tMETEOR: 6.72\tROUGE: 8.81\n"
     ]
    },
    {
     "name": "stderr",
     "output_type": "stream",
     "text": [
      "[nltk_data] Downloading package wordnet to /home/taow/nltk_data...\n",
      "[nltk_data]   Package wordnet is already up-to-date!\n"
     ]
    },
    {
     "name": "stdout",
     "output_type": "stream",
     "text": [
      "NNGen\tjavascript:\t\tBLEU: 14.57\tMETEOR: 20.33\tROUGE: 16.06\n"
     ]
    },
    {
     "name": "stderr",
     "output_type": "stream",
     "text": [
      "[nltk_data] Downloading package wordnet to /home/taow/nltk_data...\n",
      "[nltk_data]   Package wordnet is already up-to-date!\n"
     ]
    },
    {
     "name": "stdout",
     "output_type": "stream",
     "text": [
      "NNGen\tcsharp:\t\tBLEU: 3.86\tMETEOR: 4.09\tROUGE: 4.22\n"
     ]
    },
    {
     "name": "stderr",
     "output_type": "stream",
     "text": [
      "[nltk_data] Downloading package wordnet to /home/taow/nltk_data...\n",
      "[nltk_data]   Package wordnet is already up-to-date!\n"
     ]
    },
    {
     "name": "stdout",
     "output_type": "stream",
     "text": [
      "NNGen\tpython:\t\tBLEU: 10.37\tMETEOR: 16.62\tROUGE: 7.71\n"
     ]
    },
    {
     "name": "stderr",
     "output_type": "stream",
     "text": [
      "[nltk_data] Downloading package wordnet to /home/taow/nltk_data...\n",
      "[nltk_data]   Package wordnet is already up-to-date!\n"
     ]
    },
    {
     "name": "stdout",
     "output_type": "stream",
     "text": [
      "NNGen\tcpp:\t\tBLEU: 8.28\tMETEOR: 13.19\tROUGE: 8.46\n"
     ]
    },
    {
     "name": "stderr",
     "output_type": "stream",
     "text": [
      "[nltk_data] Downloading package wordnet to /home/taow/nltk_data...\n",
      "[nltk_data]   Package wordnet is already up-to-date!\n"
     ]
    },
    {
     "name": "stdout",
     "output_type": "stream",
     "text": [
      "NNGen\tjava:\t\tBLEU: 7.34\tMETEOR: 9.15\tROUGE: 8.88\n"
     ]
    },
    {
     "name": "stderr",
     "output_type": "stream",
     "text": [
      "[nltk_data] Downloading package wordnet to /home/taow/nltk_data...\n",
      "[nltk_data]   Package wordnet is already up-to-date!\n"
     ]
    },
    {
     "name": "stdout",
     "output_type": "stream",
     "text": [
      "Ptr-Net\tjavascript:\t\tBLEU: 20.87\tMETEOR: 28.25\tROUGE: 28.68\n"
     ]
    },
    {
     "name": "stderr",
     "output_type": "stream",
     "text": [
      "[nltk_data] Downloading package wordnet to /home/taow/nltk_data...\n",
      "[nltk_data]   Package wordnet is already up-to-date!\n"
     ]
    },
    {
     "name": "stdout",
     "output_type": "stream",
     "text": [
      "Ptr-Net\tcsharp:\t\tBLEU: 6.23\tMETEOR: 6.62\tROUGE: 9.11\n"
     ]
    },
    {
     "name": "stderr",
     "output_type": "stream",
     "text": [
      "[nltk_data] Downloading package wordnet to /home/taow/nltk_data...\n",
      "[nltk_data]   Package wordnet is already up-to-date!\n"
     ]
    },
    {
     "name": "stdout",
     "output_type": "stream",
     "text": [
      "Ptr-Net\tpython:\t\tBLEU: 13.29\tMETEOR: 21.32\tROUGE: 15.03\n"
     ]
    },
    {
     "name": "stderr",
     "output_type": "stream",
     "text": [
      "[nltk_data] Downloading package wordnet to /home/taow/nltk_data...\n",
      "[nltk_data]   Package wordnet is already up-to-date!\n"
     ]
    },
    {
     "name": "stdout",
     "output_type": "stream",
     "text": [
      "Ptr-Net\tcpp:\t\tBLEU: 9.91\tMETEOR: 13.39\tROUGE: 12.99\n"
     ]
    },
    {
     "name": "stderr",
     "output_type": "stream",
     "text": [
      "[nltk_data] Downloading package wordnet to /home/taow/nltk_data...\n",
      "[nltk_data]   Package wordnet is already up-to-date!\n"
     ]
    },
    {
     "name": "stdout",
     "output_type": "stream",
     "text": [
      "Ptr-Net\tjava:\t\tBLEU: 9.65\tMETEOR: 11.40\tROUGE: 14.31\n"
     ]
    },
    {
     "name": "stderr",
     "output_type": "stream",
     "text": [
      "[nltk_data] Downloading package wordnet to /home/taow/nltk_data...\n",
      "[nltk_data]   Package wordnet is already up-to-date!\n"
     ]
    },
    {
     "name": "stdout",
     "output_type": "stream",
     "text": [
      "CoRec\tjavascript:\t\tBLEU: 18.30\tMETEOR: 23.87\tROUGE: 22.46\n"
     ]
    },
    {
     "name": "stderr",
     "output_type": "stream",
     "text": [
      "[nltk_data] Downloading package wordnet to /home/taow/nltk_data...\n",
      "[nltk_data]   Package wordnet is already up-to-date!\n"
     ]
    },
    {
     "name": "stdout",
     "output_type": "stream",
     "text": [
      "CoRec\tcsharp:\t\tBLEU: 3.36\tMETEOR: 3.12\tROUGE: 5.21\n"
     ]
    },
    {
     "name": "stderr",
     "output_type": "stream",
     "text": [
      "[nltk_data] Downloading package wordnet to /home/taow/nltk_data...\n",
      "[nltk_data]   Package wordnet is already up-to-date!\n"
     ]
    },
    {
     "name": "stdout",
     "output_type": "stream",
     "text": [
      "CoRec\tpython:\t\tBLEU: 11.63\tMETEOR: 18.49\tROUGE: 10.03\n"
     ]
    },
    {
     "name": "stderr",
     "output_type": "stream",
     "text": [
      "[nltk_data] Downloading package wordnet to /home/taow/nltk_data...\n",
      "[nltk_data]   Package wordnet is already up-to-date!\n"
     ]
    },
    {
     "name": "stdout",
     "output_type": "stream",
     "text": [
      "CoRec\tcpp:\t\tBLEU: 8.63\tMETEOR: 15.02\tROUGE: 9.36\n"
     ]
    },
    {
     "name": "stderr",
     "output_type": "stream",
     "text": [
      "[nltk_data] Downloading package wordnet to /home/taow/nltk_data...\n",
      "[nltk_data]   Package wordnet is already up-to-date!\n"
     ]
    },
    {
     "name": "stdout",
     "output_type": "stream",
     "text": [
      "CoRec\tjava:\t\tBLEU: 5.71\tMETEOR: 5.78\tROUGE: 7.24\n"
     ]
    }
   ],
   "source": [
    "split_part = \"split_time\"\n",
    "m_split_model_lan_score[split_part] = dict()\n",
    "for model_name in baseline_list:\n",
    "    m_split_model_lan_score[split_part][model_name] = dict()\n",
    "    for lan in lan_list:\n",
    "        gen_path = f\"experimental_results/model_{model_name}/{split_part}/{lan}/gen.msg\"\n",
    "        ref_path = f\"data/cmt_msg_gen/{split_part}/cut_diff200_msg50/{lan}/test.msg.txt\"\n",
    "        m_split_model_lan_score[split_part][model_name][lan] = evaluate(ref_path, gen_path, gen_component_list = ['subject'], ref_component_list = [\"subject\"],\n",
    "                                                idx_list = split_lan_match_template_idx_dict[split_part][lan])\n",
    "        print((f\"{model_name}\\t{lan}:\\t\\t\"\n",
    "               f\"BLEU: {m_split_model_lan_score[split_part][model_name][lan]['subject']['B-Norm']:.2f}\\t\"\n",
    "               f\"METEOR: {m_split_model_lan_score[split_part][model_name][lan]['subject']['Meteor']:.2f}\\t\"\n",
    "               f\"ROUGE: {m_split_model_lan_score[split_part][model_name][lan]['subject']['Rouge-L']:.2f}\"))"
   ]
  },
  {
   "attachments": {},
   "cell_type": "markdown",
   "metadata": {},
   "source": [
    "### Our model"
   ]
  },
  {
   "cell_type": "code",
   "execution_count": 16,
   "metadata": {},
   "outputs": [
    {
     "name": "stdout",
     "output_type": "stream",
     "text": [
      "java 2.0\n"
     ]
    }
   ],
   "source": [
    "# # Copy Data to `experimental_results` ## TODEL\n",
    "# import shutil\n",
    "# # lan = \"csharp\"\n",
    "# # alpha = \"2.0\"\n",
    "# for lan in [\"cpp\", \"csharp\", \"java\", \"python\"]:\n",
    "#     for alpha in range(6, 22, 2):\n",
    "#         alpha = str(alpha / 10)\n",
    "#         #sh/saved_models/KADEL-2.0_0/cmt_msg_gen/split_time/cut_diff200_msg50_with_pseudo_label/java/codet5-small/prediction/test_best-bleu_clean.output\n",
    "#         source_file = f\"sh/saved_models/KADEL-{alpha}_0/cmt_msg_gen/split_time/cut_diff200_msg50_with_pseudo_label/{lan}/codet5-small/prediction/test_best-bleu_clean.output\"\n",
    "#         if not os.path.exists(source_file):\n",
    "#             continue\n",
    "#         target_dir = f\"experimental_results/model_KADEL/split_time/{lan}/alpha_{alpha}\"\n",
    "#         if os.path.exists(target_dir):\n",
    "#             continue\n",
    "#         print(lan, alpha)\n",
    "#         os.makedirs(target_dir, exist_ok=True)\n",
    "#         # copy source_file to target_dir\n",
    "#         shutil.copy(source_file, target_dir)\n"
   ]
  },
  {
   "cell_type": "markdown",
   "metadata": {},
   "source": [
    "##### Split Randomly (Table 5 & 6)"
   ]
  },
  {
   "cell_type": "markdown",
   "metadata": {},
   "source": [
    "###### MCMD<sub>pl-u</sub> (Table 6)"
   ]
  },
  {
   "cell_type": "code",
   "execution_count": 39,
   "metadata": {},
   "outputs": [
    {
     "name": "stderr",
     "output_type": "stream",
     "text": [
      "[nltk_data] Downloading package wordnet to /home/taow/nltk_data...\n",
      "[nltk_data]   Package wordnet is already up-to-date!\n"
     ]
    },
    {
     "name": "stdout",
     "output_type": "stream",
     "text": [
      "javascript:\t\tBLEU: 22.86\tMETEOR: 26.35\tROUGE: 27.77\n"
     ]
    },
    {
     "name": "stderr",
     "output_type": "stream",
     "text": [
      "[nltk_data] Downloading package wordnet to /home/taow/nltk_data...\n",
      "[nltk_data]   Package wordnet is already up-to-date!\n"
     ]
    },
    {
     "name": "stdout",
     "output_type": "stream",
     "text": [
      "csharp:\t\tBLEU: 24.72\tMETEOR: 26.93\tROUGE: 27.75\n"
     ]
    },
    {
     "name": "stderr",
     "output_type": "stream",
     "text": [
      "[nltk_data] Downloading package wordnet to /home/taow/nltk_data...\n",
      "[nltk_data]   Package wordnet is already up-to-date!\n"
     ]
    },
    {
     "name": "stdout",
     "output_type": "stream",
     "text": [
      "python:\t\tBLEU: 19.99\tMETEOR: 23.95\tROUGE: 25.46\n"
     ]
    },
    {
     "name": "stderr",
     "output_type": "stream",
     "text": [
      "[nltk_data] Downloading package wordnet to /home/taow/nltk_data...\n",
      "[nltk_data]   Package wordnet is already up-to-date!\n"
     ]
    },
    {
     "name": "stdout",
     "output_type": "stream",
     "text": [
      "cpp:\t\tBLEU: 18.21\tMETEOR: 20.85\tROUGE: 22.72\n"
     ]
    },
    {
     "name": "stderr",
     "output_type": "stream",
     "text": [
      "[nltk_data] Downloading package wordnet to /home/taow/nltk_data...\n",
      "[nltk_data]   Package wordnet is already up-to-date!\n"
     ]
    },
    {
     "name": "stdout",
     "output_type": "stream",
     "text": [
      "java:\t\tBLEU: 19.79\tMETEOR: 22.28\tROUGE: 23.28\n"
     ]
    }
   ],
   "source": [
    "split_part = \"\"\n",
    "model_name = \"KADEL\"\n",
    "u_split_model_lan_score[split_part][model_name] = dict()\n",
    "for lan in lan_list:\n",
    "    if lan not in u_split_model_lan_score[split_part][model_name].keys():\n",
    "        u_split_model_lan_score[split_part][model_name][lan] = dict()\n",
    "    ref_path = f\"data/cmt_msg_gen/cut_diff200_msg50/{lan}/test.msg.txt\"\n",
    "    gen_path = f\"experimental_results/model_KADEL/{lan}/test_last.output\"\n",
    "    if not os.path.exists(gen_path):\n",
    "        continue\n",
    "    u_split_model_lan_score[split_part][model_name][lan] = evaluate(ref_path, gen_path, gen_component_list = ['type', 'scope','subject'], ref_component_list = [\"subject\"],\n",
    "                                                                    idx_list = split_lan_unmatch_template_idx_dict[split_part][lan], gen_has_prefix_before_tab = True)\n",
    "    print((f\"{lan}:\\t\\t\"\n",
    "               f\"BLEU: {u_split_model_lan_score[split_part][model_name][lan]['subject']['B-Norm']:.2f}\\t\"\n",
    "               f\"METEOR: {u_split_model_lan_score[split_part][model_name][lan]['subject']['Meteor']:.2f}\\t\"\n",
    "               f\"ROUGE: {u_split_model_lan_score[split_part][model_name][lan]['subject']['Rouge-L']:.2f}\"))"
   ]
  },
  {
   "cell_type": "markdown",
   "metadata": {},
   "source": [
    "###### MCMD<sub>pl-m</sub> (Table 6)"
   ]
  },
  {
   "cell_type": "code",
   "execution_count": 40,
   "metadata": {},
   "outputs": [
    {
     "name": "stderr",
     "output_type": "stream",
     "text": [
      "[nltk_data] Downloading package wordnet to /home/taow/nltk_data...\n",
      "[nltk_data]   Package wordnet is already up-to-date!\n"
     ]
    },
    {
     "name": "stdout",
     "output_type": "stream",
     "text": [
      "javascript:\t\tBLEU: 38.28\tMETEOR: 51.28\tROUGE: 43.26\n"
     ]
    },
    {
     "name": "stderr",
     "output_type": "stream",
     "text": [
      "[nltk_data] Downloading package wordnet to /home/taow/nltk_data...\n",
      "[nltk_data]   Package wordnet is already up-to-date!\n"
     ]
    },
    {
     "name": "stdout",
     "output_type": "stream",
     "text": [
      "csharp:\t\tBLEU: 24.95\tMETEOR: 36.30\tROUGE: 30.67\n"
     ]
    },
    {
     "name": "stderr",
     "output_type": "stream",
     "text": [
      "[nltk_data] Downloading package wordnet to /home/taow/nltk_data...\n",
      "[nltk_data]   Package wordnet is already up-to-date!\n"
     ]
    },
    {
     "name": "stdout",
     "output_type": "stream",
     "text": [
      "python:\t\tBLEU: 22.61\tMETEOR: 39.13\tROUGE: 34.05\n"
     ]
    },
    {
     "name": "stderr",
     "output_type": "stream",
     "text": [
      "[nltk_data] Downloading package wordnet to /home/taow/nltk_data...\n",
      "[nltk_data]   Package wordnet is already up-to-date!\n"
     ]
    },
    {
     "name": "stdout",
     "output_type": "stream",
     "text": [
      "cpp:\t\tBLEU: 16.94\tMETEOR: 31.08\tROUGE: 25.66\n"
     ]
    },
    {
     "name": "stderr",
     "output_type": "stream",
     "text": [
      "[nltk_data] Downloading package wordnet to /home/taow/nltk_data...\n",
      "[nltk_data]   Package wordnet is already up-to-date!\n"
     ]
    },
    {
     "name": "stdout",
     "output_type": "stream",
     "text": [
      "java:\t\tBLEU: 25.27\tMETEOR: 34.20\tROUGE: 32.02\n"
     ]
    }
   ],
   "source": [
    "split_part = \"\"\n",
    "model_name = \"KADEL\"\n",
    "m_split_model_lan_score[split_part][model_name] = dict()\n",
    "for lan in lan_list:\n",
    "    if lan not in m_split_model_lan_score[split_part][model_name].keys():\n",
    "        m_split_model_lan_score[split_part][model_name][lan] = dict()\n",
    "    ref_path = f\"data/cmt_msg_gen/{split_part}/cut_diff200_msg50/{lan}/test.msg.txt\"\n",
    "    gen_path = f\"experimental_results/model_KADEL/{split_part}/{lan}/test_last.output\"\n",
    "    if not os.path.exists(gen_path):\n",
    "        continue\n",
    "    m_split_model_lan_score[split_part][model_name][lan] = evaluate(ref_path, gen_path, gen_component_list = ['subject'], ref_component_list = [\"subject\"],\n",
    "                                                                    idx_list = split_lan_match_template_idx_dict[split_part][lan], gen_has_prefix_before_tab = True)\n",
    "    print((f\"{lan}:\\t\\t\"\n",
    "               f\"BLEU: {m_split_model_lan_score[split_part][model_name][lan]['subject']['B-Norm']:.2f}\\t\"\n",
    "               f\"METEOR: {m_split_model_lan_score[split_part][model_name][lan]['subject']['Meteor']:.2f}\\t\"\n",
    "               f\"ROUGE: {m_split_model_lan_score[split_part][model_name][lan]['subject']['Rouge-L']:.2f}\"))"
   ]
  },
  {
   "cell_type": "markdown",
   "metadata": {},
   "source": [
    "##### Split by Time (Table 7 & 8)"
   ]
  },
  {
   "cell_type": "markdown",
   "metadata": {},
   "source": [
    "###### MCMD<sub>pl-u</sub> (Table 8)"
   ]
  },
  {
   "cell_type": "code",
   "execution_count": 48,
   "metadata": {},
   "outputs": [
    {
     "name": "stderr",
     "output_type": "stream",
     "text": [
      "[nltk_data] Downloading package wordnet to /home/taow/nltk_data...\n",
      "[nltk_data]   Package wordnet is already up-to-date!\n"
     ]
    },
    {
     "name": "stdout",
     "output_type": "stream",
     "text": [
      "javascript:\t\tBLEU: 21.17\tMETEOR: 25.91\tROUGE: 25.45\n"
     ]
    },
    {
     "name": "stderr",
     "output_type": "stream",
     "text": [
      "[nltk_data] Downloading package wordnet to /home/taow/nltk_data...\n",
      "[nltk_data]   Package wordnet is already up-to-date!\n"
     ]
    },
    {
     "name": "stdout",
     "output_type": "stream",
     "text": [
      "csharp:\t\tBLEU: 11.11\tMETEOR: 17.13\tROUGE: 14.95\n"
     ]
    },
    {
     "name": "stderr",
     "output_type": "stream",
     "text": [
      "[nltk_data] Downloading package wordnet to /home/taow/nltk_data...\n",
      "[nltk_data]   Package wordnet is already up-to-date!\n"
     ]
    },
    {
     "name": "stdout",
     "output_type": "stream",
     "text": [
      "python:\t\tBLEU: 16.77\tMETEOR: 20.26\tROUGE: 22.59\n"
     ]
    },
    {
     "name": "stderr",
     "output_type": "stream",
     "text": [
      "[nltk_data] Downloading package wordnet to /home/taow/nltk_data...\n",
      "[nltk_data]   Package wordnet is already up-to-date!\n"
     ]
    },
    {
     "name": "stdout",
     "output_type": "stream",
     "text": [
      "cpp:\t\tBLEU: 14.56\tMETEOR: 16.43\tROUGE: 19.02\n"
     ]
    },
    {
     "name": "stderr",
     "output_type": "stream",
     "text": [
      "[nltk_data] Downloading package wordnet to /home/taow/nltk_data...\n",
      "[nltk_data]   Package wordnet is already up-to-date!\n"
     ]
    },
    {
     "name": "stdout",
     "output_type": "stream",
     "text": [
      "java:\t\tBLEU: 15.64\tMETEOR: 18.18\tROUGE: 18.65\n"
     ]
    }
   ],
   "source": [
    "split_part = \"split_time\"\n",
    "model_name = \"KADEL\"\n",
    "u_split_model_lan_score[split_part][model_name] = dict()\n",
    "for lan in lan_list:\n",
    "    if lan not in u_split_model_lan_score[split_part][model_name].keys():\n",
    "        u_split_model_lan_score[split_part][model_name][lan] = dict()\n",
    "    ref_path = f\"data/cmt_msg_gen/{split_part}/cut_diff200_msg50/{lan}/test.msg.txt\"\n",
    "    gen_path = f\"experimental_results/model_KADEL/{split_part}/{lan}/test_best-bleu_clean.output\"\n",
    "    if not os.path.exists(gen_path):\n",
    "        continue\n",
    "    u_split_model_lan_score[split_part][model_name][lan] = evaluate(ref_path, gen_path, gen_component_list = ['type', 'scope','subject'], ref_component_list = [\"subject\"],\n",
    "                                                                    idx_list = split_lan_unmatch_template_idx_dict[split_part][lan])\n",
    "    print((f\"{lan}:\\t\\t\"\n",
    "            f\"BLEU: {u_split_model_lan_score[split_part][model_name][lan]['subject']['B-Norm']:.2f}\\t\"\n",
    "            f\"METEOR: {u_split_model_lan_score[split_part][model_name][lan]['subject']['Meteor']:.2f}\\t\"\n",
    "            f\"ROUGE: {u_split_model_lan_score[split_part][model_name][lan]['subject']['Rouge-L']:.2f}\"))"
   ]
  },
  {
   "cell_type": "markdown",
   "metadata": {},
   "source": [
    "###### MCMD<sub>pl-m</sub>"
   ]
  },
  {
   "cell_type": "code",
   "execution_count": 49,
   "metadata": {},
   "outputs": [
    {
     "name": "stderr",
     "output_type": "stream",
     "text": [
      "[nltk_data] Downloading package wordnet to /home/taow/nltk_data...\n",
      "[nltk_data]   Package wordnet is already up-to-date!\n"
     ]
    },
    {
     "name": "stdout",
     "output_type": "stream",
     "text": [
      "javascript:\t\tBLEU: 30.39\tMETEOR: 43.87\tROUGE: 36.66\n"
     ]
    },
    {
     "name": "stderr",
     "output_type": "stream",
     "text": [
      "[nltk_data] Downloading package wordnet to /home/taow/nltk_data...\n",
      "[nltk_data]   Package wordnet is already up-to-date!\n"
     ]
    },
    {
     "name": "stdout",
     "output_type": "stream",
     "text": [
      "csharp:\t\tBLEU: 14.66\tMETEOR: 22.11\tROUGE: 12.31\n"
     ]
    },
    {
     "name": "stderr",
     "output_type": "stream",
     "text": [
      "[nltk_data] Downloading package wordnet to /home/taow/nltk_data...\n",
      "[nltk_data]   Package wordnet is already up-to-date!\n"
     ]
    },
    {
     "name": "stdout",
     "output_type": "stream",
     "text": [
      "python:\t\tBLEU: 16.92\tMETEOR: 33.51\tROUGE: 22.09\n"
     ]
    },
    {
     "name": "stderr",
     "output_type": "stream",
     "text": [
      "[nltk_data] Downloading package wordnet to /home/taow/nltk_data...\n",
      "[nltk_data]   Package wordnet is already up-to-date!\n"
     ]
    },
    {
     "name": "stdout",
     "output_type": "stream",
     "text": [
      "cpp:\t\tBLEU: 14.20\tMETEOR: 24.05\tROUGE: 21.59\n"
     ]
    },
    {
     "name": "stderr",
     "output_type": "stream",
     "text": [
      "[nltk_data] Downloading package wordnet to /home/taow/nltk_data...\n",
      "[nltk_data]   Package wordnet is already up-to-date!\n"
     ]
    },
    {
     "name": "stdout",
     "output_type": "stream",
     "text": [
      "java:\t\tBLEU: 19.40\tMETEOR: 27.61\tROUGE: 24.14\n"
     ]
    }
   ],
   "source": [
    "split_part = \"split_time\"\n",
    "model_name = \"KADEL\"\n",
    "m_split_model_lan_score[split_part][model_name] = dict()\n",
    "for lan in lan_list:\n",
    "    if lan not in m_split_model_lan_score[split_part][model_name].keys():\n",
    "        m_split_model_lan_score[split_part][model_name][lan] = dict()\n",
    "    ref_path = f\"data/cmt_msg_gen/{split_part}/cut_diff200_msg50/{lan}/test.msg.txt\"\n",
    "    gen_path = f\"experimental_results/model_KADEL/{split_part}/{lan}/test_best-bleu_clean.output\"\n",
    "    if not os.path.exists(gen_path):\n",
    "        continue\n",
    "    m_split_model_lan_score[split_part][model_name][lan] = evaluate(ref_path, gen_path, gen_component_list = ['subject'], ref_component_list = [\"subject\"],\n",
    "                                                                    idx_list = split_lan_match_template_idx_dict[split_part][lan])\n",
    "    print((f\"{lan}:\\t\\t\"\n",
    "            f\"BLEU: {m_split_model_lan_score[split_part][model_name][lan]['subject']['B-Norm']:.2f}\\t\"\n",
    "            f\"METEOR: {m_split_model_lan_score[split_part][model_name][lan]['subject']['Meteor']:.2f}\\t\"\n",
    "            f\"ROUGE: {m_split_model_lan_score[split_part][model_name][lan]['subject']['Rouge-L']:.2f}\"))"
   ]
  },
  {
   "attachments": {},
   "cell_type": "markdown",
   "metadata": {},
   "source": [
    "## Abation Study (Table 9)"
   ]
  },
  {
   "cell_type": "markdown",
   "metadata": {},
   "source": [
    "### Without Knowledge (First Row)"
   ]
  },
  {
   "cell_type": "code",
   "execution_count": 50,
   "metadata": {},
   "outputs": [
    {
     "name": "stderr",
     "output_type": "stream",
     "text": [
      "[nltk_data] Downloading package wordnet to /home/taow/nltk_data...\n",
      "[nltk_data]   Package wordnet is already up-to-date!\n",
      "[nltk_data] Downloading package wordnet to /home/taow/nltk_data...\n",
      "[nltk_data]   Package wordnet is already up-to-date!\n"
     ]
    },
    {
     "name": "stdout",
     "output_type": "stream",
     "text": [
      "B-Norm: 20.72\n",
      "Rouge-1: 26.82\n",
      "Rouge-2: 16.21\n",
      "Rouge-L: 26.17\n",
      "Meteor: 24.99\n"
     ]
    }
   ],
   "source": [
    "gen_path = \"experimental_results/model_KADEL/javascript/without_knowledge/test_best-bleu.output\"\n",
    "ref_path = \"data/cmt_msg_gen/cut_diff200_msg50/javascript/test.msg.txt\"\n",
    "without_knowledge_unmatch = evaluate(ref_path, gen_path, gen_component_list = ['type','scope','subject'], ref_component_list = ['subject'], idx_list = split_lan_unmatch_template_idx_dict[\"\"][\"javascript\"], gen_path_prefix_idx=True)\n",
    "\n",
    "gen_path = \"experimental_results/model_KADEL/javascript/without_knowledge/test_best-bleu.output\"\n",
    "ref_path = \"data/cmt_msg_gen/cut_diff200_msg50/javascript/test.msg.txt\"\n",
    "without_knowledge_match = evaluate(ref_path, gen_path, gen_component_list = ['subject'], ref_component_list = ['subject'], idx_list = split_lan_match_template_idx_dict[\"\"][\"javascript\"], gen_path_prefix_idx=True)\n",
    "\n",
    "overall_score = dict()\n",
    "for metric in without_knowledge_match['subject'].keys():\n",
    "    # calculate the overall score\n",
    "    u_num = len(split_lan_unmatch_template_idx_dict[\"\"][\"javascript\"])\n",
    "    n_num = len(split_lan_match_template_idx_dict[\"\"][\"javascript\"])\n",
    "    overall_score[metric] = (without_knowledge_unmatch['subject'][metric] * u_num + \n",
    "             without_knowledge_match['subject'][metric] * n_num) / (u_num + n_num)\n",
    "    print(f\"{metric}: {overall_score[metric]:.2f}\")"
   ]
  },
  {
   "cell_type": "markdown",
   "metadata": {},
   "source": [
    "### Without Denoising (Second Row)"
   ]
  },
  {
   "cell_type": "code",
   "execution_count": 51,
   "metadata": {},
   "outputs": [
    {
     "name": "stderr",
     "output_type": "stream",
     "text": [
      "[nltk_data] Downloading package wordnet to /home/taow/nltk_data...\n",
      "[nltk_data]   Package wordnet is already up-to-date!\n",
      "[nltk_data] Downloading package wordnet to /home/taow/nltk_data...\n",
      "[nltk_data]   Package wordnet is already up-to-date!\n"
     ]
    },
    {
     "name": "stdout",
     "output_type": "stream",
     "text": [
      "B-Norm: 22.73\n",
      "Rouge-1: 28.05\n",
      "Rouge-2: 17.14\n",
      "Rouge-L: 27.44\n",
      "Meteor: 27.28\n"
     ]
    }
   ],
   "source": [
    "gen_path = \"experimental_results/model_KADEL/javascript/without_denoising/test_best-bleu.output\"\n",
    "ref_path = \"data/cmt_msg_gen/cut_diff200_msg50/javascript/test.msg.txt\"\n",
    "without_denoising_unmatch = evaluate(ref_path, gen_path, gen_component_list = ['type','scope','subject'], ref_component_list = ['subject'], idx_list = split_lan_unmatch_template_idx_dict[\"\"][\"javascript\"], gen_path_prefix_idx=True)\n",
    "\n",
    "gen_path = \"experimental_results/model_KADEL/javascript/without_denoising/test_best-bleu.output\"\n",
    "ref_path = \"data/cmt_msg_gen/cut_diff200_msg50/javascript/test.msg.txt\"\n",
    "without_denoising_match = evaluate(ref_path, gen_path, gen_component_list = ['subject'], ref_component_list = ['subject'], idx_list = split_lan_match_template_idx_dict[\"\"][\"javascript\"], gen_path_prefix_idx=True)\n",
    "\n",
    "for metric in without_denoising_match['subject'].keys():\n",
    "    # calculate the overall score\n",
    "    u_num = len(split_lan_unmatch_template_idx_dict[\"\"][\"javascript\"])\n",
    "    n_num = len(split_lan_match_template_idx_dict[\"\"][\"javascript\"])\n",
    "    score = (without_denoising_unmatch['subject'][metric] * u_num + \n",
    "             without_denoising_match['subject'][metric] * n_num) / (u_num + n_num)\n",
    "    print(f\"{metric}: {score:.2f}\")"
   ]
  },
  {
   "attachments": {},
   "cell_type": "markdown",
   "metadata": {},
   "source": [
    "## Type Scope Performance (Table 10)"
   ]
  },
  {
   "cell_type": "code",
   "execution_count": 52,
   "metadata": {},
   "outputs": [
    {
     "name": "stdout",
     "output_type": "stream",
     "text": [
      "TYPE\t em: 70.45, f1: 70.12 \t\tSCOPE \t em: 63.34, f1: 60.46\n"
     ]
    }
   ],
   "source": [
    "from sklearn.metrics import *\n",
    "\n",
    "# first line\n",
    "gen_file_path = \"experimental_results/model_KADEL/javascript/without_denoising/introducing_knowledge/javascript/type_scope/test/m_data/test_best-bleu_clean.output\"\n",
    "ref_file_path = \"experimental_results/model_KADEL/javascript/without_denoising/introducing_knowledge/javascript/type_scope/test/m_data/test_best-bleu_clean.gold\"\n",
    "\n",
    "with open(ref_file_path) as f:\n",
    "    ref_list = f.read().strip().split(\"\\n\")\n",
    "with open(gen_file_path) as f:\n",
    "    gen_list = f.read().strip().split(\"\\n\")\n",
    "\n",
    "gen_type_list = [line.strip().split(\" \")[0] for line in gen_list]\n",
    "ref_type_list = [line.strip().split(\" \")[0] for line in ref_list]\n",
    "\n",
    "gen_scope_list = [\" \".join(line.strip().split(\" \")[1:]) for line in gen_list]\n",
    "ref_scope_list = [\" \".join(line.strip().split(\" \")[1:]) for line in ref_list]\n",
    "for idx, ref_scope in enumerate(reversed(ref_scope_list)):\n",
    "    if ref_scope == \"\":\n",
    "        i = len(ref_type_list) - idx - 1\n",
    "        ref_scope_list.pop(i)\n",
    "        gen_scope_list.pop(i)\n",
    "\n",
    "type_em = accuracy_score(ref_type_list, gen_type_list)*100\n",
    "type_f1 = f1_score(ref_type_list, gen_type_list, average='weighted')*100\n",
    "\n",
    "scope_em = accuracy_score(ref_scope_list, gen_scope_list)*100\n",
    "scope_f1 = f1_score(ref_scope_list, gen_scope_list, average='weighted')*100\n",
    "\n",
    "print(f\"TYPE\\t em: {type_em:.2f}, f1: {type_f1:.2f} \\t\\tSCOPE \\t em: {scope_em:.2f}, f1: {scope_f1:.2f}\")"
   ]
  },
  {
   "cell_type": "code",
   "execution_count": 53,
   "metadata": {},
   "outputs": [
    {
     "name": "stdout",
     "output_type": "stream",
     "text": [
      "TYPE\t em: 76.58, f1: 76.17\n"
     ]
    }
   ],
   "source": [
    "# second line\n",
    "gen_file_path = \"experimental_results/model_KADEL/javascript/without_denoising/introducing_knowledge/javascript/type/test/m_data/test_best-bleu_clean.output\"\n",
    "ref_file_path = \"experimental_results/model_KADEL/javascript/without_denoising/introducing_knowledge/javascript/type/test/m_data/test_best-bleu_clean.gold\"\n",
    "\n",
    "with open(ref_file_path) as f:\n",
    "    ref_list = f.read().strip().split(\"\\n\")\n",
    "with open(gen_file_path) as f:\n",
    "    gen_list = f.read().strip().split(\"\\n\")\n",
    "\n",
    "gen_type_list = [line.strip().split(\" \")[0] for line in gen_list]\n",
    "ref_type_list = [line.strip().split(\" \")[0] for line in ref_list]\n",
    "\n",
    "type_em = accuracy_score(ref_type_list, gen_type_list)*100\n",
    "type_f1 = f1_score(ref_type_list, gen_type_list, average='weighted')*100\n",
    "\n",
    "\n",
    "print(f\"TYPE\\t em: {type_em:.2f}, f1: {type_f1:.2f}\")"
   ]
  },
  {
   "cell_type": "code",
   "execution_count": 54,
   "metadata": {},
   "outputs": [
    {
     "name": "stdout",
     "output_type": "stream",
     "text": [
      "SCOPE \t em: 65.70, f1: 63.50\n"
     ]
    }
   ],
   "source": [
    "# third line\n",
    "gen_file_path = \"experimental_results/model_KADEL/javascript/without_denoising/introducing_knowledge/javascript/scope/test/m_data/test_best-bleu_clean.output\"\n",
    "ref_file_path = \"experimental_results/model_KADEL/javascript/without_denoising/introducing_knowledge/javascript/scope/test/m_data/test_best-bleu_clean.gold\"\n",
    "\n",
    "with open(ref_file_path) as f:\n",
    "    ref_list = f.read().split(\"\\n\")\n",
    "with open(gen_file_path) as f:\n",
    "    gen_list = f.read().split(\"\\n\")\n",
    "\n",
    "gen_scope_list = [line.strip() for line in gen_list]\n",
    "ref_scope_list = [line.strip() for line in ref_list]\n",
    "previous_length = len(ref_scope_list)\n",
    "for idx, ref_scope in enumerate(reversed(ref_scope_list)):\n",
    "    if ref_scope == \"\":\n",
    "        i = previous_length - idx - 1\n",
    "        ref_scope_list.pop(i)\n",
    "        gen_scope_list.pop(i)\n",
    "\n",
    "scope_em = accuracy_score(ref_scope_list, gen_scope_list)*100\n",
    "scope_f1 = f1_score(ref_scope_list, gen_scope_list, average='weighted')*100\n",
    "\n",
    "print(f\"SCOPE \\t em: {scope_em:.2f}, f1: {scope_f1:.2f}\")"
   ]
  },
  {
   "attachments": {},
   "cell_type": "markdown",
   "metadata": {},
   "source": [
    "## $\\alpha$ Selection (Figure 5)"
   ]
  },
  {
   "cell_type": "code",
   "execution_count": 57,
   "metadata": {},
   "outputs": [
    {
     "name": "stderr",
     "output_type": "stream",
     "text": [
      "[nltk_data] Downloading package wordnet to /home/taow/nltk_data...\n",
      "[nltk_data]   Package wordnet is already up-to-date!\n",
      "[nltk_data] Downloading package wordnet to /home/taow/nltk_data...\n",
      "[nltk_data]   Package wordnet is already up-to-date!\n",
      "[nltk_data] Downloading package wordnet to /home/taow/nltk_data...\n",
      "[nltk_data]   Package wordnet is already up-to-date!\n",
      "[nltk_data] Downloading package wordnet to /home/taow/nltk_data...\n",
      "[nltk_data]   Package wordnet is already up-to-date!\n",
      "[nltk_data] Downloading package wordnet to /home/taow/nltk_data...\n",
      "[nltk_data]   Package wordnet is already up-to-date!\n",
      "[nltk_data] Downloading package wordnet to /home/taow/nltk_data...\n",
      "[nltk_data]   Package wordnet is already up-to-date!\n",
      "[nltk_data] Downloading package wordnet to /home/taow/nltk_data...\n",
      "[nltk_data]   Package wordnet is already up-to-date!\n",
      "[nltk_data] Downloading package wordnet to /home/taow/nltk_data...\n",
      "[nltk_data]   Package wordnet is already up-to-date!\n",
      "[nltk_data] Downloading package wordnet to /home/taow/nltk_data...\n",
      "[nltk_data]   Package wordnet is already up-to-date!\n",
      "[nltk_data] Downloading package wordnet to /home/taow/nltk_data...\n",
      "[nltk_data]   Package wordnet is already up-to-date!\n",
      "[nltk_data] Downloading package wordnet to /home/taow/nltk_data...\n",
      "[nltk_data]   Package wordnet is already up-to-date!\n",
      "[nltk_data] Downloading package wordnet to /home/taow/nltk_data...\n",
      "[nltk_data]   Package wordnet is already up-to-date!\n",
      "[nltk_data] Downloading package wordnet to /home/taow/nltk_data...\n",
      "[nltk_data]   Package wordnet is already up-to-date!\n",
      "[nltk_data] Downloading package wordnet to /home/taow/nltk_data...\n",
      "[nltk_data]   Package wordnet is already up-to-date!\n",
      "[nltk_data] Downloading package wordnet to /home/taow/nltk_data...\n",
      "[nltk_data]   Package wordnet is already up-to-date!\n",
      "[nltk_data] Downloading package wordnet to /home/taow/nltk_data...\n",
      "[nltk_data]   Package wordnet is already up-to-date!\n"
     ]
    },
    {
     "name": "stdout",
     "output_type": "stream",
     "text": [
      "0.6 {'B-Norm': 20.937021005302984, 'Rouge-1': 25.758538728816745, 'Rouge-2': 15.657302345065027, 'Rouge-L': 25.230966356392198, 'Meteor': 25.225756035973674}\n",
      "0.8 {'B-Norm': 22.750550864550682, 'Rouge-1': 28.009352466785767, 'Rouge-2': 16.843385030732968, 'Rouge-L': 27.40908755776571, 'Meteor': 26.921453698257775}\n",
      "1.0 {'B-Norm': 22.734396034524227, 'Rouge-1': 28.045240470439236, 'Rouge-2': 17.137057460984103, 'Rouge-L': 27.43666250933689, 'Meteor': 27.275585895975606}\n",
      "1.2 {'B-Norm': 23.256997129503894, 'Rouge-1': 28.563099066546478, 'Rouge-2': 17.293321930557763, 'Rouge-L': 27.95276235230308, 'Meteor': 27.431728106547975}\n",
      "1.4 {'B-Norm': 23.915363454895648, 'Rouge-1': 29.350180509627606, 'Rouge-2': 17.761360425912965, 'Rouge-L': 28.697725891497793, 'Meteor': 28.115517391019864}\n",
      "1.6 {'B-Norm': 23.989397541943564, 'Rouge-1': 29.499383178329385, 'Rouge-2': 17.816645006428594, 'Rouge-L': 28.826859816521328, 'Meteor': 28.19944852539216}\n",
      "1.8 {'B-Norm': 24.154323873635107, 'Rouge-1': 29.674139010246527, 'Rouge-2': 17.931450681832057, 'Rouge-L': 29.031436811867945, 'Meteor': 28.330170666278605}\n",
      "2.0 {'B-Norm': 22.117180100830417, 'Rouge-1': 26.807630604600266, 'Rouge-2': 16.311017691443833, 'Rouge-L': 26.293038193309332, 'Meteor': 25.819812893259495}\n"
     ]
    },
    {
     "data": {
      "image/png": "[encoded data removed]",
      "text/plain": [
       "<Figure size 1600x900 with 1 Axes>"
      ]
     },
     "metadata": {},
     "output_type": "display_data"
    }
   ],
   "source": [
    "ref_path = \"data/cmt_msg_gen/cut_diff200_msg50/javascript/test.msg.txt\"\n",
    "u_split_model_lan_score[\"\"][\"KADEL\"][\"javascript_alpha\"] = dict()\n",
    "for alpha in [0.6, 0.8, 1.0, 1.2, 1.4, 1.6, 1.8, 2.0]:\n",
    "    gen_path = \"experimental_results/model_KADEL/javascript/alpha_{}/test_best-bleu.output\".format(alpha)\n",
    "    if alpha == 1.0:\n",
    "        gen_path = \"experimental_results/model_KADEL/javascript/without_denoising/test_best-bleu.output\"\n",
    "    u_split_model_lan_score[\"\"][\"KADEL\"][\"javascript_alpha\"][alpha] = evaluate(ref_path, gen_path, gen_component_list = ['type','scope','subject'], ref_component_list=['subject'],\n",
    "                                                                               gen_path_prefix_idx=True, idx_list = split_lan_unmatch_template_idx_dict[\"\"][\"javascript\"])\n",
    "\n",
    "m_split_model_lan_score[\"\"][\"KADEL\"][\"javascript_alpha\"] = dict()\n",
    "for alpha in [0.6, 0.8, 1.0, 1.2, 1.4, 1.6, 1.8, 2.0]:\n",
    "    gen_path = \"experimental_results/model_KADEL/javascript/alpha_{}/test_best-bleu.output\".format(alpha)\n",
    "    if alpha == 1.0:\n",
    "        gen_path = \"experimental_results/model_KADEL/javascript/without_denoising/test_best-bleu.output\"\n",
    "    m_split_model_lan_score[\"\"][\"KADEL\"][\"javascript_alpha\"][alpha] = evaluate(ref_path, gen_path, gen_component_list = ['subject'], ref_component_list=['subject'],\n",
    "                                                                               gen_path_prefix_idx=True, idx_list = split_lan_match_template_idx_dict[\"\"][\"javascript\"])\n",
    "\n",
    "overall_score_dict = dict()\n",
    "for alpha in [0.6, 0.8, 1.0, 1.2, 1.4, 1.6, 1.8, 2.0]:\n",
    "    overall_score_dict[alpha] = dict()\n",
    "    for metric in u_split_model_lan_score[\"\"][\"KADEL\"][\"javascript_alpha\"][alpha]['subject'].keys():\n",
    "        overall_score = u_split_model_lan_score[\"\"][\"KADEL\"][\"javascript_alpha\"][alpha]['subject'][metric] * len(split_lan_unmatch_template_idx_dict[\"\"][\"javascript\"]) + \\\n",
    "                        m_split_model_lan_score[\"\"][\"KADEL\"][\"javascript_alpha\"][alpha]['subject'][metric] * len(split_lan_match_template_idx_dict[\"\"][\"javascript\"])\n",
    "        overall_score /= len(split_lan_unmatch_template_idx_dict[\"\"][\"javascript\"]) + len(split_lan_match_template_idx_dict[\"\"][\"javascript\"])\n",
    "        overall_score_dict[alpha][metric] = overall_score\n",
    "    \n",
    "for alpha in overall_score_dict.keys():\n",
    "    print(alpha, overall_score_dict[alpha])\n",
    "\n",
    "import matplotlib.pyplot as plt\n",
    "plt.figure(figsize=(16,9))\n",
    "fontsize=30\n",
    "alpha_list = [0.6,0.8,1.0,1.2,1.4,1.6, 1.8, 2.0]#点的横坐标\n",
    "bleu = [overall_score_dict[alpha]['B-Norm'] for alpha in alpha_list]\n",
    "meteor = [overall_score_dict[alpha]['Meteor'] for alpha in alpha_list]\n",
    "rougel = [overall_score_dict[alpha]['Rouge-L'] for alpha in alpha_list]\n",
    "plt.plot(alpha_list, bleu,'s-',color = (135/255, 207/255, 164/255),label=\"BLEU-Norm\", markersize=12)\n",
    "plt.axhline(y=bleu[2], c=(135/255, 207/255, 164/255), ls=\"--\", lw=1)\n",
    "plt.plot(alpha_list, meteor,'o-',color = (253/255, 185/255, 106/255),label=\"METEOR\", markersize=12)\n",
    "plt.axhline(y=meteor[2], c=(253/255, 185/255, 106/255), ls=\"--\", lw=1)\n",
    "plt.plot(alpha_list, rougel,'x-',color = (78/255, 98/255, 171/255),label=\"ROUGE-L\", markersize=12)\n",
    "plt.axhline(y=rougel[2], c=(78/255, 98/255, 171/255), ls=\"--\", lw=1)\n",
    "plt.xticks(fontsize=fontsize)\n",
    "plt.yticks(fontsize=fontsize, rotation=90)\n",
    "plt.xlabel(r\"Hyperparameter $\\alpha$\",fontsize=fontsize)\n",
    "plt.ylabel(\"Performance Score\",fontsize=fontsize)\n",
    "plt.legend(loc = \"lower center\",fontsize=fontsize-5)\n",
    "# plt.savefig('experimental_results/model_KADEL/javascript/alpha.pdf', bbox_inches='tight')\n",
    "plt.show()"
   ]
  },
  {
   "attachments": {},
   "cell_type": "markdown",
   "metadata": {},
   "source": [
    "## Human Evaluation (Table 12 & 15)"
   ]
  },
  {
   "cell_type": "code",
   "execution_count": 62,
   "metadata": {},
   "outputs": [
    {
     "name": "stdout",
     "output_type": "stream",
     "text": [
      "ptr: 0.95(0.10), 1.45(0.18), 1.36(0.04)\n",
      "corec: 0.75(0.19), 1.35(0.10), 1.27(0.07)\n",
      "subject_score: 1.69(0.03), 2.17(0.40), 1.98(0.19)\n",
      "ours_score: 2.10(0.04), 2.32(0.40), 2.16(0.23)\n"
     ]
    }
   ],
   "source": [
    "import pandas, numpy as np\n",
    "\n",
    "rater_score_list = []\n",
    "for i in range(3):\n",
    "    df=pandas.read_excel('human_evaluation/label_rater{}.xlsx'.format(i),engine='openpyxl')\n",
    "    rater_score_list.append(df.mean().to_list())\n",
    "\n",
    "human_label_avg = []\n",
    "human_label_std = []\n",
    "for i in range(len(rater_score_list[0])):\n",
    "    human_label_avg.append((rater_score_list[0][i]+rater_score_list[1][i]+rater_score_list[2][i])/3)\n",
    "    human_label_std.append(np.std([rater_score_list[0][i], rater_score_list[1][i] ,rater_score_list[2][i]]))\n",
    "\n",
    "corec_score = human_label_avg[0], human_label_avg[1], human_label_avg[2]\n",
    "corec_score_std =  human_label_std[0], human_label_std[1], human_label_std[2]\n",
    "ptr_score = human_label_avg[3], human_label_avg[4], human_label_avg[5]\n",
    "ptr_score_std =  human_label_std[3], human_label_std[4], human_label_std[5]\n",
    "\n",
    "ref_score =human_label_avg[6], human_label_avg[7], human_label_avg[8] \n",
    "ref_score_std = human_label_std[6], human_label_std[7], human_label_std[8] \n",
    "\n",
    "subject_score =  human_label_avg[9], human_label_avg[10], human_label_avg[11]\n",
    "subject_score_std = human_label_std[9], human_label_std[10], human_label_std[11]\n",
    "ours_score = human_label_avg[12], human_label_avg[13], human_label_avg[14]\n",
    "ours_score_std = human_label_std[12], human_label_std[13], human_label_std[14]\n",
    "\n",
    "chatgpt_score = human_label_avg[15], human_label_avg[16], human_label_avg[17]\n",
    "chatgpt_score_std = human_label_std[15], human_label_std[16], human_label_std[17]\n",
    "\n",
    "# Table 12\n",
    "# print score of ptr, corec, subject and ours (with std in parenthesis) :2f\n",
    "print(f\"ptr: {ptr_score[0]:.2f}({ptr_score_std[0]:.2f}), {ptr_score[1]:.2f}({ptr_score_std[1]:.2f}), {ptr_score[2]:.2f}({ptr_score_std[2]:.2f})\")\n",
    "print(f\"corec: {corec_score[0]:.2f}({corec_score_std[0]:.2f}), {corec_score[1]:.2f}({corec_score_std[1]:.2f}), {corec_score[2]:.2f}({corec_score_std[2]:.2f})\")\n",
    "print(f\"subject_score: {subject_score[0]:.2f}({subject_score_std[0]:.2f}), {subject_score[1]:.2f}({subject_score_std[1]:.2f}), {subject_score[2]:.2f}({subject_score_std[2]:.2f})\")\n",
    "print(f\"ours_score: {ours_score[0]:.2f}({ours_score_std[0]:.2f}), {ours_score[1]:.2f}({ours_score_std[1]:.2f}), {ours_score[2]:.2f}({ours_score_std[2]:.2f})\")\n"
   ]
  },
  {
   "cell_type": "code",
   "execution_count": 150,
   "metadata": {},
   "outputs": [
    {
     "name": "stdout",
     "output_type": "stream",
     "text": [
      "ratio: 78.17%\n",
      "ratio: 49.54%\n",
      "ratio: 45.59%\n"
     ]
    }
   ],
   "source": [
    "for i in range(3):\n",
    "    improve_value = subject_score[i] - ptr_score[i]\n",
    "    ratio = improve_value / ptr_score[i] * 100\n",
    "    print(f\"ratio: {ratio:.2f}%\")"
   ]
  },
  {
   "cell_type": "code",
   "execution_count": 151,
   "metadata": {},
   "outputs": [
    {
     "name": "stdout",
     "output_type": "stream",
     "text": [
      "ratio: 121.83%\n",
      "ratio: 59.63%\n",
      "ratio: 58.82%\n"
     ]
    }
   ],
   "source": [
    "for i in range(3):\n",
    "    improve_value = ours_score[i] - ptr_score[i]\n",
    "    ratio = improve_value / ptr_score[i] * 100\n",
    "    print(f\"ratio: {ratio:.2f}%\")"
   ]
  },
  {
   "cell_type": "code",
   "execution_count": 66,
   "metadata": {},
   "outputs": [
    {
     "name": "stdout",
     "output_type": "stream",
     "text": [
      "chatgpt_score: 2.55(0.68), 2.65(0.90), 3.35(0.30)\n",
      "ref_score: 2.59(0.16), 2.51(0.54), 2.55(0.54)\n"
     ]
    }
   ],
   "source": [
    "# Table 15\n",
    "print(f\"chatgpt_score: {chatgpt_score[0]:.2f}({chatgpt_score_std[0]:.2f}), {chatgpt_score[1]:.2f}({chatgpt_score_std[1]:.2f}), {chatgpt_score[2]:.2f}({chatgpt_score_std[2]:.2f})\")\n",
    "print(f\"ref_score: {ref_score[0]:.2f}({ref_score_std[0]:.2f}), {ref_score[1]:.2f}({ref_score_std[1]:.2f}), {ref_score[2]:.2f}({ref_score_std[2]:.2f})\")"
   ]
  },
  {
   "cell_type": "markdown",
   "metadata": {},
   "source": [
    "## Model Performance on MCMD<sub>java</sub> test set(Table 13)"
   ]
  },
  {
   "cell_type": "code",
   "execution_count": 76,
   "metadata": {},
   "outputs": [
    {
     "name": "stderr",
     "output_type": "stream",
     "text": [
      "[nltk_data] Downloading package wordnet to /home/taow/nltk_data...\n",
      "[nltk_data]   Package wordnet is already up-to-date!\n"
     ]
    },
    {
     "name": "stdout",
     "output_type": "stream",
     "text": [
      "BLEU: 19.99\tMETEOR: 22.37\tROUGE: 23.39\n"
     ]
    },
    {
     "name": "stderr",
     "output_type": "stream",
     "text": [
      "[nltk_data] Downloading package wordnet to /home/taow/nltk_data...\n",
      "[nltk_data]   Package wordnet is already up-to-date!\n"
     ]
    },
    {
     "name": "stdout",
     "output_type": "stream",
     "text": [
      "BLEU: 27.16\tMETEOR: 36.88\tROUGE: 33.73\n"
     ]
    }
   ],
   "source": [
    "split_part = \"\"\n",
    "model_name = \"KADEL\"\n",
    "better_score = dict()\n",
    "lan = \"java\"\n",
    "ref_path = f\"data/cmt_msg_gen/cut_diff200_msg50/{lan}/test.msg.txt\"\n",
    "gen_path = f\"experimental_results/model_KADEL/{lan}/better_solution/test_last.output\"\n",
    "better_score['u'] = evaluate(ref_path, gen_path, gen_component_list = ['type', 'scope','subject'], ref_component_list = [\"subject\"],\n",
    "                        idx_list = split_lan_unmatch_template_idx_dict[split_part][lan], gen_has_prefix_before_tab = True)\n",
    "print((f\"BLEU: {better_score['u']['subject']['B-Norm']:.2f}\\t\"\n",
    "        f\"METEOR: {better_score['u']['subject']['Meteor']:.2f}\\t\"\n",
    "        f\"ROUGE: {better_score['u']['subject']['Rouge-L']:.2f}\"))\n",
    "\n",
    "better_score['m'] = evaluate(ref_path, gen_path, gen_component_list = ['subject'], ref_component_list = [\"subject\"],\n",
    "                        idx_list = split_lan_match_template_idx_dict[split_part][lan], gen_has_prefix_before_tab = True)\n",
    "print((f\"BLEU: {better_score['m']['subject']['B-Norm']:.2f}\\t\"\n",
    "        f\"METEOR: {better_score['m']['subject']['Meteor']:.2f}\\t\"\n",
    "        f\"ROUGE: {better_score['m']['subject']['Rouge-L']:.2f}\"))"
   ]
  },
  {
   "cell_type": "code",
   "execution_count": 77,
   "metadata": {},
   "outputs": [
    {
     "name": "stdout",
     "output_type": "stream",
     "text": [
      "B-Norm: 20.02\n",
      "Rouge-1: 23.97\n",
      "Rouge-2: 12.79\n",
      "Rouge-L: 23.42\n",
      "Meteor: 22.43\n"
     ]
    }
   ],
   "source": [
    "# overall_score\n",
    "overall_score = dict()\n",
    "for metric in better_score['u']['subject'].keys():\n",
    "    # calculate the overall score\n",
    "    u_num = len(split_lan_unmatch_template_idx_dict[\"\"][\"java\"])\n",
    "    n_num = len(split_lan_match_template_idx_dict[\"\"][\"java\"])\n",
    "    overall_score[metric] = (better_score['u']['subject'][metric] * u_num + \n",
    "             better_score['m']['subject'][metric] * n_num) / (u_num + n_num)\n",
    "    print(f\"{metric}: {overall_score[metric]:.2f}\")"
   ]
  },
  {
   "cell_type": "markdown",
   "metadata": {},
   "source": [
    "## Comparison with ChatGPT (Table 14)"
   ]
  },
  {
   "cell_type": "code",
   "execution_count": 63,
   "metadata": {},
   "outputs": [],
   "source": [
    "import json, re\n",
    "\n",
    "lan = \"javascript\"\n",
    "\n",
    "# gpt results do not have useless spaces\n",
    "\n",
    "def eval_gpt_result(lan):\n",
    "    split_part = \"\"\n",
    "    model_name = \"gpt-3.5-turbo-0613\"\n",
    "\n",
    "    json_file_path = f\"experimental_results/gpt-3.5/{lan}/gen_msg.json\"\n",
    "    with open(json_file_path) as f:\n",
    "        gen_msg_dict = json.load(f)\n",
    "    for i in range(45000):\n",
    "        if not isinstance(gen_msg_dict[str(i)], str):\n",
    "            print(i, type(gen_msg_dict[str(i)]), gen_msg_dict[str(i)])\n",
    "        elif len(gen_msg_dict[str(i)].strip()) == 0:\n",
    "            print(i, gen_msg_dict[str(i)])\n",
    "\n",
    "    gen_path = f\"experimental_results/gpt-3.5/{lan}/gen.msg\"\n",
    "    with open(gen_path, \"w\") as f:\n",
    "        for i in range(45000):\n",
    "            if isinstance(gen_msg_dict[str(i)], str):\n",
    "                if \"\\n\" in gen_msg_dict[str(i)]:\n",
    "                    gen_msg_dict[str(i)] = gen_msg_dict[str(i)].split(\"\\n\")[0]\n",
    "                if len(gen_msg_dict[str(i)]) > 2 and ((\"\\\"\" == gen_msg_dict[str(i)].strip()[0] and \"\\\"\" == gen_msg_dict[str(i)].strip()[-1]) or \\\n",
    "                    (\"\\'\" == gen_msg_dict[str(i)].strip()[0] and \"\\'\" == gen_msg_dict[str(i)].strip()[-1])):\n",
    "                    gen_msg_dict[str(i)] = gen_msg_dict[str(i)][1:-1]\n",
    "                tmp = \"\"\n",
    "                for i in gen_msg_dict[str(i)]:\n",
    "                    if re.search(\"\\W\", i) != None:\n",
    "                        tmp+=\" \"+i+\" \"\n",
    "                    else:\n",
    "                        tmp+=i\n",
    "                gen_msg_dict[str(i)] = ' '.join(tmp.split())\n",
    "                f.write(gen_msg_dict[str(i)] + \"\\n\")\n",
    "            else:\n",
    "                f.write(\"\\n\")\n",
    "\n",
    "    ref_path = f\"data/cmt_msg_gen/cut_diff200_msg50/{lan}/test.msg.txt\"\n",
    "\n",
    "    if split_part not in u_split_model_lan_score.keys():\n",
    "        u_split_model_lan_score[split_part] = dict()\n",
    "    if model_name not in u_split_model_lan_score[split_part].keys():\n",
    "        u_split_model_lan_score[split_part][model_name] = dict()\n",
    "    u_split_model_lan_score[split_part][model_name][lan] = evaluate(ref_path, gen_path, gen_component_list = ['subject'], ref_component_list = [\"subject\"],\n",
    "                                                    idx_list = split_lan_unmatch_template_idx_dict[split_part][lan])\n",
    "    if split_part not in m_split_model_lan_score.keys():\n",
    "        m_split_model_lan_score[split_part] = dict()\n",
    "    if model_name not in m_split_model_lan_score[split_part].keys():\n",
    "        m_split_model_lan_score[split_part][model_name] = dict()\n",
    "    m_split_model_lan_score[split_part][model_name][lan] = evaluate(ref_path, gen_path, gen_component_list = ['subject'], ref_component_list = [\"subject\"],\n",
    "                                                    idx_list = split_lan_match_template_idx_dict[split_part][lan])\n",
    "\n",
    "    # print(model_name, lan, u_split_model_lan_score[split_part][model_name][lan], m_split_model_lan_score[split_part][model_name][lan])\n",
    "    return u_split_model_lan_score[split_part][model_name][lan], m_split_model_lan_score[split_part][model_name][lan]\n",
    "\n"
   ]
  },
  {
   "cell_type": "code",
   "execution_count": 64,
   "metadata": {},
   "outputs": [
    {
     "name": "stderr",
     "output_type": "stream",
     "text": [
      "[nltk_data] Downloading package wordnet to /home/taow/nltk_data...\n",
      "[nltk_data]   Package wordnet is already up-to-date!\n",
      "[nltk_data] Downloading package wordnet to /home/taow/nltk_data...\n",
      "[nltk_data]   Package wordnet is already up-to-date!\n"
     ]
    },
    {
     "name": "stdout",
     "output_type": "stream",
     "text": [
      "javascript-u: \tBLEU: 10.35\tMETEOR: 18.68\tROUGE: 17.37\n",
      "javascript-m: \tBLEU: 12.96\tMETEOR: 21.28\tROUGE: 22.68\n"
     ]
    },
    {
     "name": "stderr",
     "output_type": "stream",
     "text": [
      "[nltk_data] Downloading package wordnet to /home/taow/nltk_data...\n",
      "[nltk_data]   Package wordnet is already up-to-date!\n",
      "[nltk_data] Downloading package wordnet to /home/taow/nltk_data...\n",
      "[nltk_data]   Package wordnet is already up-to-date!\n"
     ]
    },
    {
     "name": "stdout",
     "output_type": "stream",
     "text": [
      "csharp-u: \tBLEU: 8.55\tMETEOR: 15.21\tROUGE: 13.32\n",
      "csharp-m: \tBLEU: 10.19\tMETEOR: 16.84\tROUGE: 18.78\n"
     ]
    },
    {
     "name": "stderr",
     "output_type": "stream",
     "text": [
      "[nltk_data] Downloading package wordnet to /home/taow/nltk_data...\n",
      "[nltk_data]   Package wordnet is already up-to-date!\n",
      "[nltk_data] Downloading package wordnet to /home/taow/nltk_data...\n",
      "[nltk_data]   Package wordnet is already up-to-date!\n"
     ]
    },
    {
     "name": "stdout",
     "output_type": "stream",
     "text": [
      "python-u: \tBLEU: 10.75\tMETEOR: 18.09\tROUGE: 18.29\n",
      "python-m: \tBLEU: 11.52\tMETEOR: 20.24\tROUGE: 21.66\n",
      "39039 <class 'dict'> {'error': {'message': 'Detected an error in the prompt. Please try again with a different prompt.', 'type': 'invalid_request_error', 'param': 'prompt', 'code': None}}\n"
     ]
    },
    {
     "name": "stderr",
     "output_type": "stream",
     "text": [
      "[nltk_data] Downloading package wordnet to /home/taow/nltk_data...\n",
      "[nltk_data]   Package wordnet is already up-to-date!\n",
      "[nltk_data] Downloading package wordnet to /home/taow/nltk_data...\n",
      "[nltk_data]   Package wordnet is already up-to-date!\n"
     ]
    },
    {
     "name": "stdout",
     "output_type": "stream",
     "text": [
      "cpp-u: \tBLEU: 8.99\tMETEOR: 15.45\tROUGE: 15.32\n",
      "cpp-m: \tBLEU: 10.19\tMETEOR: 16.42\tROUGE: 18.77\n"
     ]
    },
    {
     "name": "stderr",
     "output_type": "stream",
     "text": [
      "[nltk_data] Downloading package wordnet to /home/taow/nltk_data...\n",
      "[nltk_data]   Package wordnet is already up-to-date!\n",
      "[nltk_data] Downloading package wordnet to /home/taow/nltk_data...\n",
      "[nltk_data]   Package wordnet is already up-to-date!\n"
     ]
    },
    {
     "name": "stdout",
     "output_type": "stream",
     "text": [
      "java-u: \tBLEU: 9.30\tMETEOR: 16.65\tROUGE: 15.43\n",
      "java-m: \tBLEU: 10.35\tMETEOR: 16.94\tROUGE: 19.01\n"
     ]
    }
   ],
   "source": [
    "for lan in lan_list:\n",
    "    u_score, m_score = eval_gpt_result(lan)\n",
    "    print(f\"{lan}-u: \\tBLEU: {u_score['subject']['B-Norm']:.2f}\\tMETEOR: {u_score['subject']['Meteor']:.2f}\\tROUGE: {u_score['subject']['Rouge-L']:.2f}\")\n",
    "    print(f\"{lan}-m: \\tBLEU: {m_score['subject']['B-Norm']:.2f}\\tMETEOR: {m_score['subject']['Meteor']:.2f}\\tROUGE: {m_score['subject']['Rouge-L']:.2f}\")"
   ]
  }
 ],
 "metadata": {
  "kernelspec": {
   "display_name": "Python 3",
   "language": "python",
   "name": "python3"
  },
  "language_info": {
   "codemirror_mode": {
    "name": "ipython",
    "version": 3
   },
   "file_extension": ".py",
   "mimetype": "text/x-python",
   "name": "python",
   "nbconvert_exporter": "python",
   "pygments_lexer": "ipython3",
   "version": "3.8.5"
  },
  "toc": {
   "base_numbering": 1,
   "nav_menu": {},
   "number_sections": true,
   "sideBar": true,
   "skip_h1_title": false,
   "title_cell": "Table of Contents",
   "title_sidebar": "Contents",
   "toc_cell": false,
   "toc_position": {},
   "toc_section_display": true,
   "toc_window_display": false
  }
 },
 "nbformat": 4,
 "nbformat_minor": 2
}
